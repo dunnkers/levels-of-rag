{
 "cells": [
  {
   "cell_type": "code",
   "execution_count": 56,
   "metadata": {},
   "outputs": [],
   "source": [
    "from langchain_community.document_loaders import PyPDFLoader\n",
    "from IPython.display import Markdown\n",
    "from dotenv import load_dotenv\n",
    "from langchain_google_genai import ChatGoogleGenerativeAI\n",
    "from langchain_google_genai import GoogleGenerativeAIEmbeddings\n",
    "from langchain import hub\n",
    "from langchain_community.vectorstores import FAISS\n",
    "from langchain_core.output_parsers import StrOutputParser\n",
    "from langchain_core.runnables import RunnablePassthrough\n",
    "from langchain_text_splitters import RecursiveCharacterTextSplitter\n",
    "from langchain_core.documents import Document\n",
    "from langchain_openai import ChatOpenAI"
   ]
  },
  {
   "cell_type": "code",
   "execution_count": 57,
   "metadata": {},
   "outputs": [
    {
     "data": {
      "text/plain": [
       "True"
      ]
     },
     "execution_count": 57,
     "metadata": {},
     "output_type": "execute_result"
    }
   ],
   "source": [
    "load_dotenv()"
   ]
  },
  {
   "cell_type": "code",
   "execution_count": 58,
   "metadata": {},
   "outputs": [
    {
     "name": "stderr",
     "output_type": "stream",
     "text": [
      "Overwriting cache for 0 11250\n"
     ]
    },
    {
     "data": {
      "text/markdown": [
       " \n",
       "© Space Exploration Technologies Corp.  All rights reserved.  \n",
       "  \n",
       " \n",
       " \n",
       " \n",
       " \n",
       " \n",
       " \n",
       " \n",
       " \n",
       " \n",
       " \n",
       " \n",
       " \n",
       " \n",
       " \n",
       " \n",
       " \n",
       " \n",
       " \n",
       "COPYRIGHT  \n",
       "Subject to the existing rights of third parties, Space Exploration Technologies Corp. (SpaceX) is the owner of the copyright \n",
       "in this work, and no portion hereof is to be copied, reproduced, or disseminated without the prior written consent of \n",
       "SpaceX.  \n"
      ],
      "text/plain": [
       "<IPython.core.display.Markdown object>"
      ]
     },
     "execution_count": 58,
     "metadata": {},
     "output_type": "execute_result"
    }
   ],
   "source": [
    "pdf_1 = PyPDFLoader(\"./data/falcon/falcon-users-guide-2021-09.pdf\") \\\n",
    "    .load()\n",
    "\n",
    "Markdown(\n",
    "    pdf_1 \\\n",
    "    [0] \\\n",
    "    .page_content\n",
    ")"
   ]
  },
  {
   "cell_type": "code",
   "execution_count": 59,
   "metadata": {},
   "outputs": [
    {
     "data": {
      "text/markdown": [
       "CAPABILITIES & SERVICESFALCON 9DESTINATIONSpaceX offers competitive pricing for its Falcon 9 and Falcon Heavy launch services. SpaceXalso offers crew transportation services tolow-Earth orbit (LEO) destinations.See additional information at spacex.com/humanspaceflight.\n",
       "LOW-EARTH ORBIT (LEO)GEOSYNCHRONOUS TRANSFER ORBIT (GTO)PAYLOAD TO MARS22,000 kg50,265 lbs8,300 kg18,300 lbs4,020 kg8,860 lbsSTANDARD PAYMENT PLAN(through 2024)$69.75 MUp to 5.5 mT TO GTOPRICE *\n",
       "*Pricing adjustments made in January 2024 account for inflation. Missions purchased in 2024 but flown beyond 2027 may be subject to additional adjustments due to inflation.Performance represents max capability on fully expendable vehicle.\n"
      ],
      "text/plain": [
       "<IPython.core.display.Markdown object>"
      ]
     },
     "execution_count": 59,
     "metadata": {},
     "output_type": "execute_result"
    }
   ],
   "source": [
    "pdf_2 = PyPDFLoader(\"./data/falcon/Capabilities&Services.pdf\") \\\n",
    "    .load()\n",
    "\n",
    "Markdown(\n",
    "    pdf_2 \\\n",
    "    [0] \\\n",
    "    .page_content\n",
    ")\n"
   ]
  },
  {
   "cell_type": "code",
   "execution_count": 65,
   "metadata": {},
   "outputs": [
    {
     "name": "stdout",
     "output_type": "stream",
     "text": [
      "89\n"
     ]
    }
   ],
   "source": [
    "docs = pdf_1 + pdf_2\n",
    "\n",
    "print(len(docs))"
   ]
  },
  {
   "cell_type": "code",
   "execution_count": 66,
   "metadata": {},
   "outputs": [],
   "source": [
    "# define helper function to format multiple docs in one text\n",
    "def format_docs(docs):\n",
    "    return \"\\n\\n\".join(doc.page_content for doc in docs)"
   ]
  },
  {
   "cell_type": "markdown",
   "metadata": {},
   "source": [
    "## 1. How tables are difficult for RAG 💢\n"
   ]
  },
  {
   "cell_type": "markdown",
   "metadata": {},
   "source": [
    "Note to trainer:\n",
    "- Set environment variables in `.env`:\n",
    "\n",
    "    ```\n",
    "    LANGCHAIN_TRACING_V2=true\n",
    "    LANGCHAIN_ENDPOINT\n",
    "    LANGCHAIN_API_KEY=\"https://api.smith.langchain.com\"\n",
    "    LANGCHAIN_PROJECT=\"Advanced LLM's\"\n",
    "    ```\n",
    "\n",
    "- Show interactively section **1**, then let participants do section **2**."
   ]
  },
  {
   "cell_type": "markdown",
   "metadata": {},
   "source": [
    "### Falcon 9 rocket example\n"
   ]
  },
  {
   "cell_type": "code",
   "execution_count": 67,
   "metadata": {},
   "outputs": [
    {
     "name": "stderr",
     "output_type": "stream",
     "text": [
      "/Users/dunnkers/.pyenv/versions/levels-of-rag/lib/python3.11/site-packages/langchain_core/utils/utils.py:161: UserWarning: WARNING! top_p is not default parameter.\n",
      "                top_p was transferred to model_kwargs.\n",
      "                Please confirm that top_p is what you intended.\n",
      "  warnings.warn(\n",
      "/Users/dunnkers/.pyenv/versions/levels-of-rag/lib/python3.11/site-packages/langchain_core/utils/utils.py:161: UserWarning: WARNING! seed is not default parameter.\n",
      "                seed was transferred to model_kwargs.\n",
      "                Please confirm that seed is what you intended.\n",
      "  warnings.warn(\n"
     ]
    }
   ],
   "source": [
    "llm = ChatOpenAI(\n",
    "    model=\"gpt-3.5-turbo\",\n",
    "    temperature=0,\n",
    "    top_p=0.0001,\n",
    "    seed=42,\n",
    ")\n",
    "embedding = GoogleGenerativeAIEmbeddings(model=\"models/text-embedding-004\")"
   ]
  },
  {
   "cell_type": "code",
   "execution_count": 68,
   "metadata": {},
   "outputs": [],
   "source": [
    "text_splitter = RecursiveCharacterTextSplitter(chunk_size=1000, chunk_overlap=200)\n",
    "splits = text_splitter.split_documents(docs)"
   ]
  },
  {
   "cell_type": "code",
   "execution_count": 69,
   "metadata": {},
   "outputs": [],
   "source": [
    "# uncomment to re-create vectors and vectorstore\n",
    "vectorstore = FAISS.from_documents(splits, embedding=embedding)"
   ]
  },
  {
   "cell_type": "code",
   "execution_count": 23,
   "metadata": {},
   "outputs": [],
   "source": [
    "# vectorstore = FAISS.load_local(\"data/falcon_vectorstore.faiss\", embeddings=embedding, allow_dangerous_deserialization=True)"
   ]
  },
  {
   "cell_type": "code",
   "execution_count": 70,
   "metadata": {},
   "outputs": [],
   "source": [
    "retriever = vectorstore.as_retriever()"
   ]
  },
  {
   "cell_type": "code",
   "execution_count": 25,
   "metadata": {},
   "outputs": [],
   "source": [
    "# uncomment to save the vectorstore\n",
    "# vectorstore.save_local(\"data/falcon_vectorstore.faiss\")"
   ]
  },
  {
   "cell_type": "code",
   "execution_count": 71,
   "metadata": {},
   "outputs": [
    {
     "data": {
      "text/plain": [
       "[Document(page_content='© Space Exploration Technologies Corp.  All rights reserved.  5 \\n \\n \\nThe standard pric e for Falcon  9 and Falcon Heavy launch services can be found at  \\nhttps://www.spacex.com/media/Capabilities&Services.pdf . Pricing includes range services, standard payload \\nintegration an d third -party liability insurance. Please see Section 7.3 for a complete description of standard services . \\nNonstandard services  are also available.', metadata={'source': './data/falcon/falcon-users-guide-2021-09.pdf', 'page': 8}),\n",
       " Document(page_content='Contracting  ................................ ................................ ................................ ................................ ................................ .........  52 \\n Mission Management  ................................ ................................ ................................ ................................ ......................  52 \\n Standard Services  ................................ ................................ ................................ ................................ .............................  53 \\n Schedule  ................................ ................................ ................................ ................................ ................................ .............  54 \\n Customer Deliverables  ................................ ................................ ................................ ................................ .....................  54', metadata={'source': './data/falcon/falcon-users-guide-2021-09.pdf', 'page': 2}),\n",
       " Document(page_content='© Space Exploration Technologies Corp.  All rights reserved.  54 \\n \\uf0b7 Perform 3-axis attitude control  or spin -stabilized spacecraft separation.  \\n\\uf0b7 Perform a collision avoidance  maneuver (as required).  \\n\\uf0b7 Verify spacecraft separation from the launch vehicle and provide an orbit injection report.  \\n\\uf0b7 Deliver a final post -flight report, which will include payload separation confirmation, ephemeris, payload \\nenvironment, significant events and any mission -impacting anomalies.  \\nA detailed statement of work and deliverables list, including these standard services, will be developed during contract \\nnegotiation.  \\n \\nTable 7-1 provides a standard launch integration schedule, s tarting at contract sign ature  and proceeding through the \\npost -flight summary. A detailed schedule, including required customer deliverables, is developed during contract \\nnegotiation.  \\nEstimated  Schedule  Title  Purpose  \\nL-24 months  Contract signature  Provides authority to proceed with work', metadata={'source': './data/falcon/falcon-users-guide-2021-09.pdf', 'page': 57}),\n",
       " Document(page_content='Customer Deliverables  ................................ ................................ ................................ ................................ .....................  54 \\n \\n  \\n Overview and Schedule  ................................ ................................ ................................ ................................ ....................  56 \\n Spacecraft Delivery and Transportati on ................................ ................................ ................................ .......................  56', metadata={'source': './data/falcon/falcon-users-guide-2021-09.pdf', 'page': 2})]"
      ]
     },
     "execution_count": 71,
     "metadata": {},
     "output_type": "execute_result"
    }
   ],
   "source": [
    "retriever.invoke(\n",
    "    \"standard payment plan\"\n",
    ")"
   ]
  },
  {
   "cell_type": "code",
   "execution_count": 72,
   "metadata": {},
   "outputs": [],
   "source": [
    "prompt = hub.pull(\"rlm/rag-prompt\")"
   ]
  },
  {
   "cell_type": "code",
   "execution_count": 73,
   "metadata": {},
   "outputs": [],
   "source": [
    "rag_chain = (\n",
    "    {\"context\": retriever | format_docs, \"question\": RunnablePassthrough()}\n",
    "    | prompt\n",
    "    | llm\n",
    "    | StrOutputParser()\n",
    ")"
   ]
  },
  {
   "cell_type": "code",
   "execution_count": 74,
   "metadata": {},
   "outputs": [
    {
     "data": {
      "text/plain": [
       "[Document(page_content='© Space Exploration Technologies Corp.  All rights reserved.  5 \\n \\n \\nThe standard pric e for Falcon  9 and Falcon Heavy launch services can be found at  \\nhttps://www.spacex.com/media/Capabilities&Services.pdf . Pricing includes range services, standard payload \\nintegration an d third -party liability insurance. Please see Section 7.3 for a complete description of standard services . \\nNonstandard services  are also available.', metadata={'source': './data/falcon/falcon-users-guide-2021-09.pdf', 'page': 8}),\n",
       " Document(page_content='CAPABILITIES & SERVICESFALCON 9DESTINATIONSpaceX offers competitive pricing for its Falcon 9 and Falcon Heavy launch services. SpaceXalso offers crew transportation services tolow-Earth orbit (LEO) destinations.See additional information at spacex.com/humanspaceflight.\\nLOW-EARTH ORBIT (LEO)GEOSYNCHRONOUS TRANSFER ORBIT (GTO)PAYLOAD TO MARS22,000 kg50,265 lbs8,300 kg18,300 lbs4,020 kg8,860 lbsSTANDARD PAYMENT PLAN(through 2024)$69.75 MUp to 5.5 mT TO GTOPRICE *\\n*Pricing adjustments made in January 2024 account for inflation. Missions purchased in 2024 but flown beyond 2027 may be subject to additional adjustments due to inflation.Performance represents max capability on fully expendable vehicle.', metadata={'source': './data/falcon/Capabilities&Services.pdf', 'page': 0}),\n",
       " Document(page_content='© Space Exploration Technologies Corp.  All rights reserved.  8 \\n \\n \\nThe first-stage propellant tank walls of the Falcon vehicles  are made from an aluminum lithium alloy. Tanks are \\nmanufactured using friction stir welding —the highest strength and most reliable welding technique available. A common \\ndome separates the LOX and RP -1 tanks, and a  double -wall transfer tube carries LOX thr ough the center of the RP -1 tank \\nto the engine section. Four grid fins near the top of the first stage along with four deployable legs at the base are \\nnominally flown to support recovery operations.  \\nNine SpaceX Merlin engines power the Falcon  9 first stage  with up to 854 kN (1 90,000 lb f) thrust per engine at sea level, \\nfor a total thrust of 7,686  kN (1. 71 million lb f) at liftoff. The first -stage engines are configured in a circular pattern, with \\neight engines surrounding a center engine .', metadata={'source': './data/falcon/falcon-users-guide-2021-09.pdf', 'page': 11}),\n",
       " Document(page_content='© Space Exploration Technologies Corp.  All rights reserved.  6 \\n \\n \\nDescriptions and performance information in this user’ s guide are for the Falcon 9 and Falcon Heavy fairing \\nconfiguration; please contact SpaceX for information about Dragon launch capabilities. Table 2-1 provides additional \\ndetails on Falcon 9  and Falcon Heavy  dimens ions and design characteristics.  \\n \\nFalcon 9 (Figure 2-1) is a two -stage launch vehicle powered by liquid \\noxygen (LOX) and rocket -grade kerosene (RP -1). The vehicle is designed, \\nbuilt and operated by SpaceX. Falcon 9 can be flown with a fairing or with \\na SpaceX Dragon spacecraft. All first - and second -stage vehicle systems \\nare the same in the two configurations; only the payload interface to the \\nsecond stage changes between the fairing and Dragon configuration s.  \\nFalcon 9 was updated in the summer of 2015 to a Full Thrust \\nconfiguration from its previous v1.1 configuration (flown from 2013 –', metadata={'source': './data/falcon/falcon-users-guide-2021-09.pdf', 'page': 9})]"
      ]
     },
     "execution_count": 74,
     "metadata": {},
     "output_type": "execute_result"
    }
   ],
   "source": [
    "retriever.invoke(\n",
    "    \"whats the price for a falcon 9 rocket?\"\n",
    ")"
   ]
  },
  {
   "cell_type": "code",
   "execution_count": 75,
   "metadata": {},
   "outputs": [
    {
     "data": {
      "text/markdown": [
       "The price for a Falcon 9 rocket is $69.75 million according to the standard payment plan through 2024. This pricing includes range services, standard payload integration, and third-party liability insurance. Additional information can be found on the SpaceX website."
      ],
      "text/plain": [
       "<IPython.core.display.Markdown object>"
      ]
     },
     "execution_count": 75,
     "metadata": {},
     "output_type": "execute_result"
    }
   ],
   "source": [
    "Markdown(\n",
    "    rag_chain.invoke(\n",
    "        \"whats the price for a falcon 9 rocket?\"\n",
    "    )\n",
    ")"
   ]
  },
  {
   "cell_type": "code",
   "execution_count": 31,
   "metadata": {},
   "outputs": [
    {
     "data": {
      "text/plain": [
       "[Document(page_content='© Space Exploration Technologies Corp.  All rights reserved.  5 \\n \\n \\nThe standard pric e for Falcon  9 and Falcon Heavy launch services can be found at  \\nhttps://www.spacex.com/media/Capabilities&Services.pdf . Pricing includes range services, standard payload \\nintegration an d third -party liability insurance. Please see Section 7.3 for a complete description of standard services . \\nNonstandard services  are also available.', metadata={'source': './data/falcon/falcon-users-guide-2021-09.pdf', 'page': 8}),\n",
       " Document(page_content='CAPABILITIES & SERVICESFALCON 9DESTINATIONSpaceX offers competitive pricing for its Falcon 9 and Falcon Heavy launch services. SpaceXalso offers crew transportation services tolow-Earth orbit (LEO) destinations.See additional information at spacex.com/humanspaceflight.\\nLOW-EARTH ORBIT (LEO)GEOSYNCHRONOUS TRANSFER ORBIT (GTO)PAYLOAD TO MARS22,000 kg50,265 lbs8,300 kg18,300 lbs4,020 kg8,860 lbsSTANDARD PAYMENT PLAN(through 2024)$69.75 MUp to 5.5 mT TO GTOPRICE *\\n*Pricing adjustments made in January 2024 account for inflation. Missions purchased in 2024 but flown beyond 2027 may be subject to additional adjustments due to inflation.Performance represents max capability on fully expendable vehicle.', metadata={'source': './data/falcon/Capabilities&Services.pdf', 'page': 0}),\n",
       " Document(page_content='1.5.3 Staging Architecture and Design  ................................ ................................ ................................ ................................ ....................  4 \\n1.6 Pricing  ................................ ................................ ................................ ................................ ................................ ...................  5 \\n \\n  \\n Falcon Vehicle Overview  ................................ ................................ ................................ ................................ ....................  6 \\n Falcon Heavy Vehicle Overview  ................................ ................................ ................................ ................................ ....... 6 \\n Structure and Propulsion  ................................ ................................ ................................ ................................ ...................  8', metadata={'source': './data/falcon/falcon-users-guide-2021-09.pdf', 'page': 1}),\n",
       " Document(page_content='© Space Exploration Technologies Corp.  All rights reserved.  8 \\n \\n \\nThe first-stage propellant tank walls of the Falcon vehicles  are made from an aluminum lithium alloy. Tanks are \\nmanufactured using friction stir welding —the highest strength and most reliable welding technique available. A common \\ndome separates the LOX and RP -1 tanks, and a  double -wall transfer tube carries LOX thr ough the center of the RP -1 tank \\nto the engine section. Four grid fins near the top of the first stage along with four deployable legs at the base are \\nnominally flown to support recovery operations.  \\nNine SpaceX Merlin engines power the Falcon  9 first stage  with up to 854 kN (1 90,000 lb f) thrust per engine at sea level, \\nfor a total thrust of 7,686  kN (1. 71 million lb f) at liftoff. The first -stage engines are configured in a circular pattern, with \\neight engines surrounding a center engine .', metadata={'source': './data/falcon/falcon-users-guide-2021-09.pdf', 'page': 11})]"
      ]
     },
     "execution_count": 31,
     "metadata": {},
     "output_type": "execute_result"
    }
   ],
   "source": [
    "retriever.invoke(\n",
    "    \"whats the price for a falcon 9 rocket with the standard payment plan?\"\n",
    ")"
   ]
  },
  {
   "cell_type": "code",
   "execution_count": 76,
   "metadata": {},
   "outputs": [
    {
     "data": {
      "text/markdown": [
       "The price for a Falcon 9 rocket launch with the standard payment plan is $69.75 million through 2024. This pricing includes range services, standard payload integration, and third-party liability insurance. Additional information can be found at spacex.com/humanspaceflight."
      ],
      "text/plain": [
       "<IPython.core.display.Markdown object>"
      ]
     },
     "execution_count": 76,
     "metadata": {},
     "output_type": "execute_result"
    }
   ],
   "source": [
    "Markdown(\n",
    "    rag_chain.invoke(\n",
    "        \"whats the price for a falcon 9 rocket launch with the standard payment plan?\"\n",
    "    )\n",
    ")"
   ]
  },
  {
   "cell_type": "code",
   "execution_count": 77,
   "metadata": {},
   "outputs": [
    {
     "data": {
      "text/plain": [
       "[Document(page_content='© Space Exploration Technologies Corp.  All rights reserved.  72 \\n Table 7 -3: Additional required documents and data for non -US persons and n on-US government \\npayloads  ................................ ................................ ................................ ................................ ...........................  55 \\nTable 8 -1: Services and equipment for payload processing  ................................ ................................ .. 58 \\nTable 8 -2: Launch control organization  ................................ ................................ ................................ ..... 61 \\nTable 8 -3: Falcon 9 sample flight timeline —GTO mission  ................................ ................................ ..... 66 \\nTable 8 -4: Falcon 9 sample flight timeline —LEO mission  ................................ ................................ ...... 66', metadata={'source': './data/falcon/falcon-users-guide-2021-09.pdf', 'page': 75}),\n",
       " Document(page_content='CAPABILITIES & SERVICESFALCON 9DESTINATIONSpaceX offers competitive pricing for its Falcon 9 and Falcon Heavy launch services. SpaceXalso offers crew transportation services tolow-Earth orbit (LEO) destinations.See additional information at spacex.com/humanspaceflight.\\nLOW-EARTH ORBIT (LEO)GEOSYNCHRONOUS TRANSFER ORBIT (GTO)PAYLOAD TO MARS22,000 kg50,265 lbs8,300 kg18,300 lbs4,020 kg8,860 lbsSTANDARD PAYMENT PLAN(through 2024)$69.75 MUp to 5.5 mT TO GTOPRICE *\\n*Pricing adjustments made in January 2024 account for inflation. Missions purchased in 2024 but flown beyond 2027 may be subject to additional adjustments due to inflation.Performance represents max capability on fully expendable vehicle.', metadata={'source': './data/falcon/Capabilities&Services.pdf', 'page': 0}),\n",
       " Document(page_content='© Space Exploration Technologies Corp.  All rights reserved.  6 \\n \\n \\nDescriptions and performance information in this user’ s guide are for the Falcon 9 and Falcon Heavy fairing \\nconfiguration; please contact SpaceX for information about Dragon launch capabilities. Table 2-1 provides additional \\ndetails on Falcon 9  and Falcon Heavy  dimens ions and design characteristics.  \\n \\nFalcon 9 (Figure 2-1) is a two -stage launch vehicle powered by liquid \\noxygen (LOX) and rocket -grade kerosene (RP -1). The vehicle is designed, \\nbuilt and operated by SpaceX. Falcon 9 can be flown with a fairing or with \\na SpaceX Dragon spacecraft. All first - and second -stage vehicle systems \\nare the same in the two configurations; only the payload interface to the \\nsecond stage changes between the fairing and Dragon configuration s.  \\nFalcon 9 was updated in the summer of 2015 to a Full Thrust \\nconfiguration from its previous v1.1 configuration (flown from 2013 –', metadata={'source': './data/falcon/falcon-users-guide-2021-09.pdf', 'page': 9}),\n",
       " Document(page_content='Falcon 9 was updated in the summer of 2015 to a Full Thrust \\nconfiguration from its previous v1.1 configuration (flown from 2013 – \\nsummer 2015). Falcon 9 underwent further updates and first flew its Full \\nThrust Block 5 configuration  in spring 2018. The Falcon 9 Block 5 \\narchitecture focused on improving performance, reliability, and life of the \\nvehicle, as well as ensuring the vehicle’s ability  to meet critical \\ngovernment crewed and non-crewed mission  requirement s. Engine \\nperformance on both stages was im proved, releasing additional thrust \\ncapability. Thermal protection shielding was modified to support rapid \\nrecovery and refurbishment. Avionics designs, thrust structures, and \\nother components were upgraded for commonality, reliability, and \\nperformance.   \\n \\nFalcon Heavy (Figure 2-2) is a two -stage, heavy -lift launch vehicle \\npowered by LOX and RP -1. It can transport more payload mass into LEO \\nor GTO than any other launch vehicle currently in operation.', metadata={'source': './data/falcon/falcon-users-guide-2021-09.pdf', 'page': 9})]"
      ]
     },
     "execution_count": 77,
     "metadata": {},
     "output_type": "execute_result"
    }
   ],
   "source": [
    "retriever.invoke(\n",
    "    \"what is the payload I carry with the Falcon 9 rocket to Mars?\"\n",
    ")"
   ]
  },
  {
   "cell_type": "code",
   "execution_count": 79,
   "metadata": {},
   "outputs": [
    {
     "data": {
      "text/markdown": [
       "The payload capacity of the Falcon 9 rocket to Mars is 8,300 kg or 18,300 lbs. SpaceX offers competitive pricing for its launch services to various destinations, including low-Earth orbit and Mars. Customers need to verify the mass properties of their payload before shipping it to the launch site."
      ],
      "text/plain": [
       "<IPython.core.display.Markdown object>"
      ]
     },
     "execution_count": 79,
     "metadata": {},
     "output_type": "execute_result"
    }
   ],
   "source": [
    "Markdown(\n",
    "    rag_chain.invoke(\n",
    "        \"what is the payload I can carry with the Falcon 9 rocket to Mars?\"\n",
    "    )\n",
    ")"
   ]
  },
  {
   "cell_type": "markdown",
   "metadata": {},
   "source": [
    "### Budgeting example\n"
   ]
  },
  {
   "cell_type": "code",
   "execution_count": 80,
   "metadata": {},
   "outputs": [
    {
     "data": {
      "text/plain": [
       "3"
      ]
     },
     "execution_count": 80,
     "metadata": {},
     "output_type": "execute_result"
    }
   ],
   "source": [
    "pdf_budget = PyPDFLoader(\"./data/annual_budget/Begroting 2024 NPO tabellen.pdf\") \\\n",
    "    .load()\n",
    "len(pdf_budget)"
   ]
  },
  {
   "cell_type": "markdown",
   "metadata": {},
   "source": [
    "Let's inspect how the PDF was parsed."
   ]
  },
  {
   "cell_type": "code",
   "execution_count": 82,
   "metadata": {},
   "outputs": [
    {
     "data": {
      "text/markdown": [
       "NPO Begroting 2024 10\n",
       "Budgetaanvraag\n",
       "De publieke omroep vraagt in totaal een budget aan van 966 miljoen euro voor 2024.  \n",
       "In deze begroting wordt daar waar mogelijk vergeleken met de prognose van de beschik -\n",
       "bare middelen voor 2023. Deze prognose is gebaseerd op het gewijzigde en vastgestelde \n",
       "OCW-budget 2023 en gaat uit van de geplaatste en toegekende programma’s,  \n",
       "reserveringen en de verdeling van de (extra) prijsbijstelling per juni 2023. \n",
       "Conform de Mediawet ontvangt de publieke omroep compensatie voor kostenstijgingen \n",
       "door indexatie van het Rijksmediabijdragedeel van het minimumbudget. Dat is het totale \n",
       "bedrag exclusief Ster-inkomsten waarover geen index geldt. Voor 2024 is daarbij uitgegaan \n",
       "van een consumentenprijsindex (CPI) van 3,1%. Daarnaast voorziet de Mediawet in een \n",
       "verhoging van het budget met een index die de groei van het aantal huishoudens   \n",
       "representeert. Dit laatste leidt tot een aanvullend bedrag voor 2024 ten opzichte van  \n",
       "2023 van 3,7 miljoen euro. In het vastgestelde budget 2023 is een (extra) prijsbijstelling \n",
       "toegepast. \n",
       "Het totale OCW-budget dat de publieke omroep aanvraagt komt daarmee uit op een \n",
       "bedrag van afgerond 966 miljoen euro, waarvan 829,3 miljoen euro programmabudget. \n",
       "Het programmabudget is inclusief het budget voor het Coproductiefonds Binnenlandse \n",
       "Omroep (CoBO) van 8,2 miljoen euro. Het aangevraagde OCW-budget voor 2024 bevat \n",
       "daarnaast een bedrag van 1,15 miljoen euro ten behoeve van de toe  gezegde extra middelen \n",
       "voor audio  descriptie (NPO).\n",
       "Bijlage B maakt zichtbaar hoe het totale programmabudget van 829,3 miljoen euro is \n",
       "onderverdeeld naar het (wettelijke) garantiebudget van de omroepen. Zoals gebruikelijk \n",
       "vraagt de NPO ook het budget aan voor de Stichting Omroep Muziek (SOM). De aanvraag \n",
       "voor komend jaar voor de SOM bedraagt 22.738.000 euro. Dat bedrag houdt nog geen \n",
       "rekening met een indexering. De toelichting op deze budgetaanvraag stuurt de SOM \n",
       "separaat aan OCW toe. Nevenstaande tabel geeft de begrote beschikbare middelen 2024 \n",
       "per onderdeel weer en vergelijkt die op totaalniveau met de prognose voor 2023.Tabel 1. Budgetaanvraag 2024 (in €)\n",
       "ArtikelBudgetaanvraag \n",
       "20241Prognose \n",
       "20232\n",
       "2.149, lid 1, sub c NOS 158.456.648 171.609.317\n",
       "2.149, lid 1, sub a Omroepverenigingen met erkenning 249.276.395 241.707.119\n",
       "2.149, lid 1, sub b Omroepverenigingen met voorlopige erkenning 8.309.213 8.056.904\n",
       "2.149, lid 1, sub d NTR 61.407.904 59.543.254\n",
       "Totaal zendgemachtigden 477.450.160 480.916.594\n",
       "2.149, lid 1, sub f Programmaversterking 351.813.269 348.829.407\n",
       "Totaal programmabudget 829.263.429 829.746.001\n",
       "2.149, lid 1, sub e NPO 134.979.571 131.074.000\n",
       "2.149, lid 1, sub e Stichting BVN 1.779.000 1.749.000\n",
       "Totaal OCW -budget 966.022.000 962.569.001\n",
       "1 Inclusief 18 miljoen eur o ten behoeve van meerkosten superevenementen in 2024\n",
       "2  Exclusief 5 miljoen euro uit de AMr ten behoeve van meerkosten superevenementen in 2023, exclusief  \n",
       "5,0 miljoen euro ten behoeve van het cultuurplan en inclusief 43,5 miljoen ten behoeve van meerkosten \n",
       "toekomstige superevenementen NPO Begroting 2024 Uitwerking 2024 Concessiebeleidsplan 2022 -2026 Budgetaanvraag 2024 Bijlagen"
      ],
      "text/plain": [
       "<IPython.core.display.Markdown object>"
      ]
     },
     "execution_count": 82,
     "metadata": {},
     "output_type": "execute_result"
    }
   ],
   "source": [
    "Markdown(pdf_budget[0].page_content)"
   ]
  },
  {
   "cell_type": "markdown",
   "metadata": {},
   "source": [
    "... which comes from this page in the PDF:\n",
    "\n",
    "![alt text](<./data/annual_budget/Screenshot 2024-09-12 at 10.40.17.png>)"
   ]
  },
  {
   "cell_type": "code",
   "execution_count": 83,
   "metadata": {},
   "outputs": [
    {
     "name": "stderr",
     "output_type": "stream",
     "text": [
      "/Users/dunnkers/.pyenv/versions/levels-of-rag/lib/python3.11/site-packages/langchain_core/utils/utils.py:161: UserWarning: WARNING! top_p is not default parameter.\n",
      "                top_p was transferred to model_kwargs.\n",
      "                Please confirm that top_p is what you intended.\n",
      "  warnings.warn(\n",
      "/Users/dunnkers/.pyenv/versions/levels-of-rag/lib/python3.11/site-packages/langchain_core/utils/utils.py:161: UserWarning: WARNING! seed is not default parameter.\n",
      "                seed was transferred to model_kwargs.\n",
      "                Please confirm that seed is what you intended.\n",
      "  warnings.warn(\n"
     ]
    }
   ],
   "source": [
    "llm = ChatOpenAI(\n",
    "    model=\"gpt-3.5-turbo\",\n",
    "    temperature=0,\n",
    "    top_p=0.0001,\n",
    "    seed=42,\n",
    ")\n",
    "embedding = GoogleGenerativeAIEmbeddings(model=\"models/text-embedding-004\")"
   ]
  },
  {
   "cell_type": "code",
   "execution_count": 84,
   "metadata": {},
   "outputs": [],
   "source": [
    "text_splitter = RecursiveCharacterTextSplitter(chunk_size=1000)\n",
    "splits = text_splitter.split_documents(pdf_budget)\n",
    "vectorstore = FAISS.from_documents(splits, embedding=embedding)\n",
    "retriever = vectorstore.as_retriever()\n",
    "prompt = hub.pull(\"rlm/rag-prompt\")\n",
    "rag_chain = (\n",
    "    {\"context\": retriever | format_docs, \"question\": RunnablePassthrough()}\n",
    "    | prompt\n",
    "    | llm\n",
    "    | StrOutputParser()\n",
    ")"
   ]
  },
  {
   "cell_type": "code",
   "execution_count": 85,
   "metadata": {},
   "outputs": [
    {
     "data": {
      "text/plain": [
       "[Document(page_content='NPO Begroting 2024 10\\nBudgetaanvraag\\nDe publieke omroep vraagt in totaal een budget aan van 966 miljoen euro voor 2024.  \\nIn deze begroting wordt daar waar mogelijk vergeleken met de prognose van de beschik -\\nbare middelen voor 2023. Deze prognose is gebaseerd op het gewijzigde en vastgestelde \\nOCW-budget 2023 en gaat uit van de geplaatste en toegekende programma’s,  \\nreserveringen en de verdeling van de (extra) prijsbijstelling per juni 2023. \\nConform de Mediawet ontvangt de publieke omroep compensatie voor kostenstijgingen \\ndoor indexatie van het Rijksmediabijdragedeel van het minimumbudget. Dat is het totale \\nbedrag exclusief Ster-inkomsten waarover geen index geldt. Voor 2024 is daarbij uitgegaan \\nvan een consumentenprijsindex (CPI) van 3,1%. Daarnaast voorziet de Mediawet in een \\nverhoging van het budget met een index die de groei van het aantal huishoudens   \\nrepresenteert. Dit laatste leidt tot een aanvullend bedrag voor 2024 ten opzichte van', metadata={'source': './data/annual_budget/Begroting 2024 NPO tabellen.pdf', 'page': 0}),\n",
       " Document(page_content='verhoging van het budget met een index die de groei van het aantal huishoudens   \\nrepresenteert. Dit laatste leidt tot een aanvullend bedrag voor 2024 ten opzichte van  \\n2023 van 3,7 miljoen euro. In het vastgestelde budget 2023 is een (extra) prijsbijstelling \\ntoegepast. \\nHet totale OCW-budget dat de publieke omroep aanvraagt komt daarmee uit op een \\nbedrag van afgerond 966 miljoen euro, waarvan 829,3 miljoen euro programmabudget. \\nHet programmabudget is inclusief het budget voor het Coproductiefonds Binnenlandse \\nOmroep (CoBO) van 8,2 miljoen euro. Het aangevraagde OCW-budget voor 2024 bevat \\ndaarnaast een bedrag van 1,15 miljoen euro ten behoeve van de toe  gezegde extra middelen \\nvoor audio  descriptie (NPO).\\nBijlage B maakt zichtbaar hoe het totale programmabudget van 829,3 miljoen euro is \\nonderverdeeld naar het (wettelijke) garantiebudget van de omroepen. Zoals gebruikelijk \\nvraagt de NPO ook het budget aan voor de Stichting Omroep Muziek (SOM). De aanvraag', metadata={'source': './data/annual_budget/Begroting 2024 NPO tabellen.pdf', 'page': 0}),\n",
       " Document(page_content='onderverdeeld naar het (wettelijke) garantiebudget van de omroepen. Zoals gebruikelijk \\nvraagt de NPO ook het budget aan voor de Stichting Omroep Muziek (SOM). De aanvraag \\nvoor komend jaar voor de SOM bedraagt 22.738.000 euro. Dat bedrag houdt nog geen \\nrekening met een indexering. De toelichting op deze budgetaanvraag stuurt de SOM \\nseparaat aan OCW toe. Nevenstaande tabel geeft de begrote beschikbare middelen 2024 \\nper onderdeel weer en vergelijkt die op totaalniveau met de prognose voor 2023.Tabel 1. Budgetaanvraag 2024 (in €)\\nArtikelBudgetaanvraag \\n20241Prognose \\n20232\\n2.149, lid 1, sub c NOS 158.456.648 171.609.317\\n2.149, lid 1, sub a Omroepverenigingen met erkenning 249.276.395 241.707.119\\n2.149, lid 1, sub b Omroepverenigingen met voorlopige erkenning 8.309.213 8.056.904\\n2.149, lid 1, sub d NTR 61.407.904 59.543.254\\nTotaal zendgemachtigden 477.450.160 480.916.594\\n2.149, lid 1, sub f Programmaversterking 351.813.269 348.829.407\\nTotaal programmabudget 829.263.429 829.746.001', metadata={'source': './data/annual_budget/Begroting 2024 NPO tabellen.pdf', 'page': 0}),\n",
       " Document(page_content='Totaal zendgemachtigden 477.450.160 480.916.594\\n2.149, lid 1, sub f Programmaversterking 351.813.269 348.829.407\\nTotaal programmabudget 829.263.429 829.746.001\\n2.149, lid 1, sub e NPO 134.979.571 131.074.000\\n2.149, lid 1, sub e Stichting BVN 1.779.000 1.749.000\\nTotaal OCW -budget 966.022.000 962.569.001\\n1 Inclusief 18 miljoen eur o ten behoeve van meerkosten superevenementen in 2024\\n2  Exclusief 5 miljoen euro uit de AMr ten behoeve van meerkosten superevenementen in 2023, exclusief  \\n5,0 miljoen euro ten behoeve van het cultuurplan en inclusief 43,5 miljoen ten behoeve van meerkosten \\ntoekomstige superevenementen NPO Begroting 2024 Uitwerking 2024 Concessiebeleidsplan 2022 -2026 Budgetaanvraag 2024 Bijlagen', metadata={'source': './data/annual_budget/Begroting 2024 NPO tabellen.pdf', 'page': 0}),\n",
       " Document(page_content='NPO Begroting 2024 11\\nTabel 2. Verdeling beschikbare middelen 2024 naar onderdelen\\n(x 1.000 euro) Video AudioOrganisatie - \\nkosten CoBO NPO3Totaal  \\nbegroting 2024Totaal  \\nprognose 2023 Verschil\\nBijdragen OCW4619.208 91.237 110.569 8.249 136.759 966.022 929.194 36.828\\nMutatie budget vorig jaar 20.866 5.200 0 0 0 26.066 45.889 -19.822\\nOmroepbrede Middelen 45.638 900 242 274 32.406 79.461 76.821 2.640\\nInzet reserves 0 0 0 0 0 0 1.912 -1.912\\nBijdragen derden 6.208 0 0 0 0 6.208 6.208 0\\nEigen bijdragen 27.229 2.500 0 0 600 30.329 30.329 0\\nTotaal begroting 2024 719.149 99.837 110.812 8.523 169.765 1.108.086 1.090.352 17.734\\nTotaal prognose 2023 710.902 95.447 108.665 8.275 167.064 1.090.352\\nVerschil 8.247 4.390 2.147 248 2.701 17.734\\n \\nBeschikbare middelen per financieringsbron\\nDe bijdragen OCW  stijgen ten opzichte van de prognose met 36,8 miljoen euro.  \\nDeze toename is het gevolg van indexatie ten bedrage van 28,4 miljoen euro (CPI 3,1%', metadata={'source': './data/annual_budget/Begroting 2024 NPO tabellen.pdf', 'page': 1}),\n",
       " Document(page_content='De bijdragen OCW  stijgen ten opzichte van de prognose met 36,8 miljoen euro.  \\nDeze toename is het gevolg van indexatie ten bedrage van 28,4 miljoen euro (CPI 3,1%  \\nen huishoudensindex 3,7 miljoen euro) en een extra bijdrage van 0,5 miljoen euro voor \\naudiodescriptie, om meer programmering toegankelijk te maken voor mensen met een \\nvisuele beperking. Daarentegen zal de in 2023 incidenteel ontvangen bijdrage voor het \\nCultuurplan van 5,0 miljoen euro niet worden gecontinueerd.\\nIn 2023 is een aanvraag gedaan van 5,1 miljoen euro voor meerkosten Super  evenementen \\ndie plaatsvinden in 2023. Voor 2024 wordt 18,0 miljoen euro aangevraagd ten behoeve  \\nvan de meerkosten Superevenementen, zoals de Olympische Spelen, het EK voetbal en  \\nde Nations League. Dit is per saldo een toename van 12,9 miljoen euro.\\nNiet-besteed budget uit een voorgaand jaar zet de publieke omroep in voor het daarop \\nvolgende jaar. Dat geldt ook voor een aantal toekomstige verplichtingen die de publieke', metadata={'source': './data/annual_budget/Begroting 2024 NPO tabellen.pdf', 'page': 1}),\n",
       " Document(page_content='Niet-besteed budget uit een voorgaand jaar zet de publieke omroep in voor het daarop \\nvolgende jaar. Dat geldt ook voor een aantal toekomstige verplichtingen die de publieke \\nomroep aangaat. Zo is door Video in 2023 budget gereserveerd ten behoeve van genoem-\\nde superevenementen in 2024 (zie mutatie budget vorig jaar ). Bij Audio is in 2023 budget bestemd voor onder andere het in 2024 uit te voeren experiment met een nieuwe radio-\\nzender om de publieksgroep 35 tot 54-jarigen met een biculturele achtergrond beter te \\nbereiken. \\nDe stijging in de Omroepbrede Middelen (OBM)  van 2,6 miljoen euro kent haar achter-\\ngrond in een verwachte toename van het aantal NPO Plus-abonnees en een hogere \\nvergoeding voor de doorgifte van de publieke zenders. Deze middelen zetten we in 2024 in \\nvoor levens  beschouwelijke programmering (Video) van 13,1 miljoen euro, programmering  \\nmet een bijdrage vanuit het NPO-fonds van 19,3 miljoen euro, rechten SVOD (video) van', metadata={'source': './data/annual_budget/Begroting 2024 NPO tabellen.pdf', 'page': 1}),\n",
       " Document(page_content='voor levens  beschouwelijke programmering (Video) van 13,1 miljoen euro, programmering  \\nmet een bijdrage vanuit het NPO-fonds van 19,3 miljoen euro, rechten SVOD (video) van  \\n14,7 miljoen euro en gezamenlijkheidsactiviteiten die de NPO uitvoert van 32,4 miljoen euro, \\ninclusief technische kosten NPO Plus.\\nIn de prognose 2023 is opgenomen dat de NPO uit reserves  1,9 miljoen euro inzet.  \\nDit bedrag wordt onder andere besteed aan het onderzoek naar grensoverschrijdend \\ngedrag door de Commissie Van Rijn.\\nOmroepen ontvangen bijdragen van derden , waaronder bijdragen CoBO-fonds, co -\\nproducenten, sponsorbijdragen en bijdragen overige derden. Naar verwachting blijven de \\ntotale bijdragen van derden gelijk aan de prognose 2023. Alle overige inkomsten (eigen \\nbijdragen)  die conform de Mediawet (artikel 2.135) gebruikt worden voor de uitvoering van \\nde publieke media-opdracht, zijn begroot onder de eigen bijdragen. 3 Inclusief B VN', metadata={'source': './data/annual_budget/Begroting 2024 NPO tabellen.pdf', 'page': 1}),\n",
       " Document(page_content='bijdragen)  die conform de Mediawet (artikel 2.135) gebruikt worden voor de uitvoering van \\nde publieke media-opdracht, zijn begroot onder de eigen bijdragen. 3 Inclusief B VN \\n4  Bijdr age OCW prognose 2023 inclusief bijdrage Cultuurplan 5,0 miljoen euro, inclusief 5,0 miljoen euro \\nbijdrage ten behoeve van Superevenementen 2023, maar exclusief de ontvangen 43,5 miljoen euro ten \\nbehoeve van meerkosten toekomstige SuperevenementenNPO Begroting 2024 Uitwerking 2024 Concessiebeleidsplan 2022 -2026 Budgetaanvraag 2024 Bijlagen', metadata={'source': './data/annual_budget/Begroting 2024 NPO tabellen.pdf', 'page': 1}),\n",
       " Document(page_content='NPO Begroting 2024 12\\nBeschikbare middelen per onderdeel\\nIn lijn met de eerdere uitgangspunten zet de publieke omroep de mutatie van het \\nOCW-budget van 2023 naar 2024 zoveel mogelijk in ten behoeve van het programma -\\nbudget. Dat gebeur t in de verhouding 2:1 van programmabudget ten opzichte van de \\nvergoeding organisatiekosten. De verdeling tussen Video en Audio is proportioneel op  \\nbasis van het budget 2023. De (extra) prijsbijstelling is volgens deze verhouding verdeeld \\nover alle onderdelen.\\nDe NPO voert een aantal centrale activiteiten uit ten behoeve van de programmering, \\nwaaronder de rechten voor collectieve beheersorganisaties en de distributiegelden.  \\nDeze activiteiten volgen de genoemde verdeling van het programmabudget. Daarnaast zal \\nAudio in 2024 extra financiële ruimte bieden aan on demand activiteiten en om podcasts \\neen kwaliteitsimpuls te geven. Ook is bij de extra-kanalen rekening gehouden met de', metadata={'source': './data/annual_budget/Begroting 2024 NPO tabellen.pdf', 'page': 2}),\n",
       " Document(page_content='Audio in 2024 extra financiële ruimte bieden aan on demand activiteiten en om podcasts \\neen kwaliteitsimpuls te geven. Ook is bij de extra-kanalen rekening gehouden met de \\nambitie een experiment te starten met een radiozender, die een brede publieksgroep \\nbereikt met een biculturele achtergrond. \\nDe onderverdeling van de organisatiekosten (OK) vergoeding à 110,3 miljoen euro per \\nomroeporganisatie is weergegeven in bijlage B.\\nVolgens artikel 2.147 Mediawet geeft de NPO, naast inzicht in de financiële middelen  \\ndie voor 2024 nodig zijn om de voornemens met betrekking tot de landelijke publieke \\nmediadienst te verwezenlijken, ook een raming voor de daarop volgende vier jaar  \\n(2025 t/m 2028): \\nTabel 3. Prognose 2023 en raming budget 2024 t/m 2028\\n(x 1 mln euro)Prognose \\n2023 2024 2025 2026 2027 2028\\nOCW -budget 924 948 980 1.004 1.026 1.034\\nOmroepbrede middelen (OBM) 77 79 79 79 79 79\\nEigen bijdragen 38 37 37 37 37 37\\nTotale beschikbare middelen 1.039 1.064 1.096 1.120 1.142 1.159', metadata={'source': './data/annual_budget/Begroting 2024 NPO tabellen.pdf', 'page': 2}),\n",
       " Document(page_content=\"OCW -budget 924 948 980 1.004 1.026 1.034\\nOmroepbrede middelen (OBM) 77 79 79 79 79 79\\nEigen bijdragen 38 37 37 37 37 37\\nTotale beschikbare middelen 1.039 1.064 1.096 1.120 1.142 1.159\\nVerwachte kosten -1.039 -1.071 -1.098 -1.124 -1.150 -1.167\\nMeerkosten Superevenementen -5 -19 -2 -30 -5 -28\\nExtra budget meerkosten SE's 5 19 2 30 5 13\\nBesparingen 0 -7 -2 -4 -8 -24In de beschikbare middelen wordt gerekend met een bijdrage vanuit OCW conform artikel \\n2.148a en overige middelen, waaronder OBM en eigen bijdragen. De overige middelen \\nworden gelijk verondersteld voor de komende jaren.\\nVoor een doorkijk naar de jaren 2025 tot en met 2028 wordt een kostenstijging ge -\\nhant eerd van 2,5% in 2025, 2,4% in 2026, 2,3% in 2027 en 1,5% in 2028. Deze stijging is \\ngebaseerd op de te verwachten nationale consumentenprijsindex (CPI) conform het \\nCentraal Economisch Plan (CEP) van het Centraal Planbureau. \\nNaast de verwachte kostenstijging heeft de NPO ook te maken met meerkosten van\", metadata={'source': './data/annual_budget/Begroting 2024 NPO tabellen.pdf', 'page': 2}),\n",
       " Document(page_content='Centraal Economisch Plan (CEP) van het Centraal Planbureau. \\nNaast de verwachte kostenstijging heeft de NPO ook te maken met meerkosten van \\nsuperevenementen (SE’s). Dit zijn met name de eindtoernooien van het Nederlands \\nvoetbalelftal mannen en de Olympische Spelen in de even jaren. De eindtoernooien van  \\nhet Nederlands voetbalelftal vrouwen zijn in de oneven jaren begroot. Voor deze concessie-\\nperiode is een toekenning ontvangen vanuit OCW voor een deel van de dekking van deze \\nmeerkosten. \\nZoals in eerdere begrotingen en ons concessiebeleidsplan is aangegeven, moet de publieke \\nomroep in deze erkenningsperiode structureel besparingen doorvoeren. Dit vanwege een \\ndiscrepantie tussen de stijging van de verwachte kosten en de beschikbare middelen.  \\nDe (extra) prijsbijstelling in 2023 was noodzakelijk voor de bekostiging van de gestegen \\nloonkosten en prijzen, maar onvoldoende voor verdere toekomstige kostenontwikkelingen.', metadata={'source': './data/annual_budget/Begroting 2024 NPO tabellen.pdf', 'page': 2}),\n",
       " Document(page_content='De (extra) prijsbijstelling in 2023 was noodzakelijk voor de bekostiging van de gestegen \\nloonkosten en prijzen, maar onvoldoende voor verdere toekomstige kostenontwikkelingen. \\nEerder heeft de publieke omroep al besparingen doorgevoerd (zie voorgaande begrotingen). \\nDoelstelling is deze besparingen zoveel als mogelijk met efficiëntiemaatregelen in te vullen \\nen niet met een ‘kaasschaaf’. De bijgestelde door te voeren besparingen lopen op tot  \\n24 miljoen euro (gemiddeld 9 miljoen euro per jaar) op organisatie- en programmakosten. NPO Begroting 2024 Uitwerking 2024 Concessiebeleidsplan 2022 -2026 Budgetaanvraag 2024 Bijlagen', metadata={'source': './data/annual_budget/Begroting 2024 NPO tabellen.pdf', 'page': 2})]"
      ]
     },
     "execution_count": 85,
     "metadata": {},
     "output_type": "execute_result"
    }
   ],
   "source": [
    "splits"
   ]
  },
  {
   "cell_type": "markdown",
   "metadata": {},
   "source": [
    "Let's inspect the way we chunked the text:\n",
    "\n",
    "![alt text](<./data/annual_budget/Screenshot 2024-09-12 at 10.48.57.png>)\n",
    "\n",
    "<small>See <a href=\"https://chunkviz.up.railway.app\">https://chunkviz.up.railway.app</a>.</small>\n",
    "\n",
    "Time to ask some questions! Let's test out our simple RAG system."
   ]
  },
  {
   "cell_type": "code",
   "execution_count": 86,
   "metadata": {},
   "outputs": [
    {
     "data": {
      "text/markdown": [
       "De budgetaanvraag van de NTR in 2024 bedraagt in totaal 966 miljoen euro. Dit bedrag omvat 829,3 miljoen euro aan programmabudget. Daarnaast is er een bedrag van 1,15 miljoen euro aangevraagd voor extra middelen voor audio-descriptie."
      ],
      "text/plain": [
       "<IPython.core.display.Markdown object>"
      ]
     },
     "execution_count": 86,
     "metadata": {},
     "output_type": "execute_result"
    }
   ],
   "source": [
    "Markdown(\n",
    "    rag_chain.invoke(\n",
    "        \"wat is de budget aanvraag van de NTR in 2024?\"\n",
    "    )\n",
    ")"
   ]
  },
  {
   "cell_type": "markdown",
   "metadata": {},
   "source": [
    "That answer is wildly wrong! The actual value is € 61,407,904. \n",
    "\n",
    "![alt text](<./data/annual_budget/Screenshot 2024-09-13 at 10.20.27.png>)\n",
    "\n",
    "Why did we get it so wrong?\n",
    "\n",
    "That is, because our table was passed as jumbled text to the LLM:\n",
    "\n",
    "```\n",
    "Tabel 1. Budgetaanvraag 2024 (in €) ArtikelBudgetaanvraag 20241Prognose 20232 2.149, lid 1, sub c NOS 158.456.648 171.609.317 2.149, lid 1, sub a Omroepverenigingen met erkenning 249.276.395 241.707.119 2.149, lid 1, sub b Omroepverenigingen met voorlopige erkenning 8.309.213 8.056.904 2.149, lid 1, sub d NTR 61.407.904 59.543.254 Totaal zendgemachtigden 477.450.160 480.916.594 2.149, lid 1, sub f Programmaversterking 351.813.269 348.829.407 Totaal programmabudget 829.263.429 829.746.001 2.149, lid 1, sub e NPO 134.979.571 131.074.000 2.149, lid 1, sub e Stichting BVN 1.779.000 1.749.000 Totaal OCW -budget 966.022.000 962.569.001\n",
    "```"
   ]
  },
  {
   "cell_type": "code",
   "execution_count": 87,
   "metadata": {},
   "outputs": [
    {
     "data": {
      "text/markdown": [
       "De publieke omroep vraagt in totaal een budget aan van 966 miljoen euro voor 2024, inclusief 18 miljoen euro voor meerkosten superevenementen. De bijdragen van OCW stijgen met 36,8 miljoen euro, waarvan 28,4 miljoen euro door indexatie. In 2024 wordt 18,0 miljoen euro aangevraagd voor meerkosten Superevenementen."
      ],
      "text/plain": [
       "<IPython.core.display.Markdown object>"
      ]
     },
     "execution_count": 87,
     "metadata": {},
     "output_type": "execute_result"
    }
   ],
   "source": [
    "Markdown(\n",
    "    rag_chain.invoke(\n",
    "        \"wat is de budget aanvraag totaal zendgemachtigden in 2024?\"\n",
    "    )\n",
    ")"
   ]
  },
  {
   "cell_type": "markdown",
   "metadata": {},
   "source": [
    "## 2. Decomposing the table\n",
    "\n",
    "With a multimodal model."
   ]
  },
  {
   "cell_type": "code",
   "execution_count": 88,
   "metadata": {},
   "outputs": [
    {
     "name": "stderr",
     "output_type": "stream",
     "text": [
      "/Users/dunnkers/.pyenv/versions/levels-of-rag/lib/python3.11/site-packages/langchain_core/utils/utils.py:161: UserWarning: WARNING! top_p is not default parameter.\n",
      "                top_p was transferred to model_kwargs.\n",
      "                Please confirm that top_p is what you intended.\n",
      "  warnings.warn(\n",
      "/Users/dunnkers/.pyenv/versions/levels-of-rag/lib/python3.11/site-packages/langchain_core/utils/utils.py:161: UserWarning: WARNING! seed is not default parameter.\n",
      "                seed was transferred to model_kwargs.\n",
      "                Please confirm that seed is what you intended.\n",
      "  warnings.warn(\n"
     ]
    }
   ],
   "source": [
    "llm = ChatOpenAI(\n",
    "    model=\"gpt-3.5-turbo\",\n",
    "    temperature=0,\n",
    "    top_p=0.0001,\n",
    "    seed=42,\n",
    ")"
   ]
  },
  {
   "cell_type": "code",
   "execution_count": 89,
   "metadata": {},
   "outputs": [],
   "source": [
    "PROJECT_ID = \"academy-advanced-llm-ing-apr25\"\n",
    "LOCATION = \"europe-west4\"\n",
    "\n",
    "# Initialize Vertex AI\n",
    "import vertexai\n",
    "\n",
    "vertexai.init(project=PROJECT_ID, location=LOCATION)"
   ]
  },
  {
   "cell_type": "code",
   "execution_count": 90,
   "metadata": {},
   "outputs": [],
   "source": [
    "from vertexai.generative_models import GenerationConfig, GenerativeModel, Image, Part"
   ]
  },
  {
   "cell_type": "code",
   "execution_count": 91,
   "metadata": {},
   "outputs": [],
   "source": [
    "multimodal_model = GenerativeModel(\"gemini-2.0-flash\")"
   ]
  },
  {
   "cell_type": "code",
   "execution_count": 92,
   "metadata": {},
   "outputs": [],
   "source": [
    "import http.client\n",
    "import typing\n",
    "import urllib.request\n",
    "\n",
    "import IPython.display\n",
    "from PIL import Image as PIL_Image\n",
    "from PIL import ImageOps as PIL_ImageOps\n",
    "\n",
    "\n",
    "def display_images(\n",
    "    images: typing.Iterable[Image],\n",
    "    max_width: int = 600,\n",
    "    max_height: int = 350,\n",
    ") -> None:\n",
    "    for image in images:\n",
    "        pil_image = typing.cast(PIL_Image.Image, image._pil_image)\n",
    "        if pil_image.mode != \"RGB\":\n",
    "            # RGB is supported by all Jupyter environments (e.g. RGBA is not yet)\n",
    "            pil_image = pil_image.convert(\"RGB\")\n",
    "        image_width, image_height = pil_image.size\n",
    "        if max_width < image_width or max_height < image_height:\n",
    "            # Resize to display a smaller notebook image\n",
    "            pil_image = PIL_ImageOps.contain(pil_image, (max_width, max_height))\n",
    "        IPython.display.display(pil_image)\n",
    "\n",
    "\n",
    "def get_image_bytes_from_url(image_url: str) -> bytes:\n",
    "    with urllib.request.urlopen(image_url) as response:\n",
    "        response = typing.cast(http.client.HTTPResponse, response)\n",
    "        image_bytes = response.read()\n",
    "    return image_bytes\n",
    "\n",
    "\n",
    "def load_image_from_url(image_url: str) -> Image:\n",
    "    image_bytes = get_image_bytes_from_url(image_url)\n",
    "    return Image.from_bytes(image_bytes)\n",
    "\n",
    "\n",
    "def display_content_as_image(content: str | Image | Part) -> bool:\n",
    "    if not isinstance(content, Image):\n",
    "        return False\n",
    "    display_images([content])\n",
    "    return True\n",
    "\n",
    "\n",
    "def display_content_as_video(content: str | Image | Part) -> bool:\n",
    "    if not isinstance(content, Part):\n",
    "        return False\n",
    "    part = typing.cast(Part, content)\n",
    "    file_path = part.file_data.file_uri.removeprefix(\"gs://\")\n",
    "    video_url = f\"https://storage.googleapis.com/{file_path}\"\n",
    "    IPython.display.display(IPython.display.Video(video_url, width=600))\n",
    "    return True\n",
    "\n",
    "\n",
    "def print_multimodal_prompt(contents: list[str | Image | Part]):\n",
    "    \"\"\"\n",
    "    Given contents that would be sent to Gemini,\n",
    "    output the full multimodal prompt for ease of readability.\n",
    "    \"\"\"\n",
    "    for content in contents:\n",
    "        if display_content_as_image(content):\n",
    "            continue\n",
    "        if display_content_as_video(content):\n",
    "            continue\n",
    "        print(content)\n",
    "\n",
    "# ref: https://github.com/GoogleCloudPlatform/generative-ai/blob/307d39295ff2c0bfd8fac52a61dcd00f6c3655cc/gemini/use-cases/intro_multimodal_use_cases.ipynb"
   ]
  },
  {
   "cell_type": "code",
   "execution_count": 93,
   "metadata": {},
   "outputs": [
    {
     "name": "stdout",
     "output_type": "stream",
     "text": [
      "-------Prompt--------\n",
      "Instructions: Consider an image extracted from a PDF below:\n"
     ]
    },
    {
     "data": {
      "image/jpeg": "[encoded data removed]",
      "image/png": "[encoded data removed]",
      "text/plain": [
       "<PIL.Image.Image image mode=RGB size=585x319>"
      ]
     },
     "metadata": {},
     "output_type": "display_data"
    },
    {
     "name": "stdout",
     "output_type": "stream",
     "text": [
      "\n",
      "Find tables in the image. For every table, do the following.\n",
      "Explain every cell of the table above in a bullet-point list. Each element of the list \n",
      "should describe what that value (text or number) is about, considering its headers. \n",
      "Continue this list redundantly for every cell in this list. Do not explain cells of headers. \n",
      "Consider only the values. Answer in the same language that the PDF content was written in.\n",
      "\n",
      "Example:\n",
      "- The interest rate of Federal funds (effective) for the week ending on April 15, 2002 was 1.84.\n",
      "Example:\n",
      "- The interest rate of Nonfinancial commercial paper for 1-month for the week ending on April 15, 2002 was 1.76.\n",
      "Example:\n",
      "- The interest rate of Financial commercial paper for 2-month for the week ending on April 16, 2002 was 1.80.\n",
      "\n",
      "Facts:\n",
      "- \n",
      "\n",
      "\n",
      "-------Response--------\n",
      "Hier is de uitleg van elke cel in de tabel:\n",
      "\n",
      "*   De budgetaanvraag voor NOS in 2024 is 158.456.648.\n",
      "*   De prognose voor NOS in 2023 is 171.609.317.\n",
      "*   De budgetaanvraag voor Omroepverenigingen met erkenning in 2024 is 249.276.395.\n",
      "*   De prognose voor Omroepverenigingen met erkenning in 2023 is 241.707.119.\n",
      "*   De budgetaanvraag voor Omroepverenigingen met voorlopige erkenning in 2024 is 8.309.213.\n",
      "*   De prognose voor Omroepverenigingen met voorlopige erkenning in 2023 is 8.056.904.\n",
      "*   De budgetaanvraag voor NTR in 2024 is 61.407.904.\n",
      "*   De prognose voor NTR in 2023 is 59.543.254.\n",
      "*   De totale budgetaanvraag voor zendgemachtigden in 2024 is 477.450.160.\n",
      "*   De totale prognose voor zendgemachtigden in 2023 is 480.916.594.\n",
      "*   De budgetaanvraag voor Programmaversterking in 2024 is 351.813.269.\n",
      "*   De prognose voor Programmaversterking in 2023 is 348.829.407.\n",
      "*   De totale budgetaanvraag voor programmabudget in 2024 is 829.263.429.\n",
      "*   De totale prognose voor programmabudget in 2023 is 829.746.001.\n",
      "*   De budgetaanvraag voor NPO in 2024 is 134.979.571.\n",
      "*   De prognose voor NPO in 2023 is 131.074.000.\n",
      "*   De budgetaanvraag voor Stichting BVN in 2024 is 1.779.000.\n",
      "*   De prognose voor Stichting BVN in 2023 is 1.749.000.\n",
      "*   De totale budgetaanvraag voor OCW-budget in 2024 is 966.022.000.\n",
      "*   De totale prognose voor OCW-budget in 2023 is 962.569.001.\n"
     ]
    }
   ],
   "source": [
    "from pathlib import Path\n",
    "\n",
    "\n",
    "image_table = Image.from_bytes(\n",
    "    Path(\"./data/annual_budget/Screenshot 2024-09-13 at 10.20.27.png\").read_bytes()\n",
    ")\n",
    "\n",
    "instructions = \"Instructions: Consider an image extracted from a PDF below:\"\n",
    "prompt1 = \"\"\"\n",
    "Find tables in the image. For every table, do the following.\n",
    "Explain every cell of the table above in a bullet-point list. Each element of the list \n",
    "should describe what that value (text or number) is about, considering its headers. \n",
    "Continue this list redundantly for every cell in this list. Do not explain cells of headers. \n",
    "Consider only the values. Answer in the same language that the PDF content was written in.\n",
    "\n",
    "Example:\n",
    "- The interest rate of Federal funds (effective) for the week ending on April 15, 2002 was 1.84.\n",
    "Example:\n",
    "- The interest rate of Nonfinancial commercial paper for 1-month for the week ending on April 15, 2002 was 1.76.\n",
    "Example:\n",
    "- The interest rate of Financial commercial paper for 2-month for the week ending on April 16, 2002 was 1.80.\n",
    "\n",
    "Facts:\n",
    "- \n",
    "\"\"\"\n",
    "\n",
    "\n",
    "contents = [\n",
    "    instructions,\n",
    "    image_table,\n",
    "    prompt1,\n",
    "]\n",
    "\n",
    "responses = multimodal_model.generate_content(contents, stream=True)\n",
    "response_chunks = []\n",
    "\n",
    "print(\"-------Prompt--------\")\n",
    "print_multimodal_prompt(contents)\n",
    "\n",
    "print(\"\\n-------Response--------\")\n",
    "for response in responses:\n",
    "    print(response.text, end=\"\")\n",
    "    response_chunks.append(response.text)\n",
    "\n",
    "response_str = \"\".join(response_chunks)"
   ]
  },
  {
   "cell_type": "markdown",
   "metadata": {},
   "source": [
    "### Testing out querying using facts"
   ]
  },
  {
   "cell_type": "code",
   "execution_count": 94,
   "metadata": {},
   "outputs": [
    {
     "data": {
      "text/plain": [
       "['Hier is de uitleg van elke cel in de tabel:',\n",
       " '',\n",
       " '*   De budgetaanvraag voor NOS in 2024 is 158.456.648.',\n",
       " '*   De prognose voor NOS in 2023 is 171.609.317.',\n",
       " '*   De budgetaanvraag voor Omroepverenigingen met erkenning in 2024 is 249.276.395.',\n",
       " '*   De prognose voor Omroepverenigingen met erkenning in 2023 is 241.707.119.',\n",
       " '*   De budgetaanvraag voor Omroepverenigingen met voorlopige erkenning in 2024 is 8.309.213.',\n",
       " '*   De prognose voor Omroepverenigingen met voorlopige erkenning in 2023 is 8.056.904.',\n",
       " '*   De budgetaanvraag voor NTR in 2024 is 61.407.904.',\n",
       " '*   De prognose voor NTR in 2023 is 59.543.254.',\n",
       " '*   De totale budgetaanvraag voor zendgemachtigden in 2024 is 477.450.160.',\n",
       " '*   De totale prognose voor zendgemachtigden in 2023 is 480.916.594.',\n",
       " '*   De budgetaanvraag voor Programmaversterking in 2024 is 351.813.269.',\n",
       " '*   De prognose voor Programmaversterking in 2023 is 348.829.407.',\n",
       " '*   De totale budgetaanvraag voor programmabudget in 2024 is 829.263.429.',\n",
       " '*   De totale prognose voor programmabudget in 2023 is 829.746.001.',\n",
       " '*   De budgetaanvraag voor NPO in 2024 is 134.979.571.',\n",
       " '*   De prognose voor NPO in 2023 is 131.074.000.',\n",
       " '*   De budgetaanvraag voor Stichting BVN in 2024 is 1.779.000.',\n",
       " '*   De prognose voor Stichting BVN in 2023 is 1.749.000.',\n",
       " '*   De totale budgetaanvraag voor OCW-budget in 2024 is 966.022.000.',\n",
       " '*   De totale prognose voor OCW-budget in 2023 is 962.569.001.',\n",
       " '']"
      ]
     },
     "execution_count": 94,
     "metadata": {},
     "output_type": "execute_result"
    }
   ],
   "source": [
    "facts = response_str.split(\"\\n\")\n",
    "facts = [fact.replace(\"- \", \"\", 1) for fact in facts]\n",
    "facts"
   ]
  },
  {
   "cell_type": "code",
   "execution_count": 95,
   "metadata": {},
   "outputs": [],
   "source": [
    "facts_docs = [Document(fact) for fact in facts]"
   ]
  },
  {
   "cell_type": "code",
   "execution_count": 96,
   "metadata": {},
   "outputs": [
    {
     "name": "stderr",
     "output_type": "stream",
     "text": [
      "/Users/dunnkers/.pyenv/versions/levels-of-rag/lib/python3.11/site-packages/langchain_core/utils/utils.py:161: UserWarning: WARNING! top_p is not default parameter.\n",
      "                top_p was transferred to model_kwargs.\n",
      "                Please confirm that top_p is what you intended.\n",
      "  warnings.warn(\n",
      "/Users/dunnkers/.pyenv/versions/levels-of-rag/lib/python3.11/site-packages/langchain_core/utils/utils.py:161: UserWarning: WARNING! seed is not default parameter.\n",
      "                seed was transferred to model_kwargs.\n",
      "                Please confirm that seed is what you intended.\n",
      "  warnings.warn(\n"
     ]
    }
   ],
   "source": [
    "llm = ChatOpenAI(\n",
    "    model=\"gpt-3.5-turbo\",\n",
    "    temperature=0,\n",
    "    top_p=0.0001,\n",
    "    seed=42,\n",
    ")\n",
    "embedding = GoogleGenerativeAIEmbeddings(model=\"models/text-embedding-004\")"
   ]
  },
  {
   "cell_type": "code",
   "execution_count": 97,
   "metadata": {},
   "outputs": [],
   "source": [
    "text_splitter = RecursiveCharacterTextSplitter(chunk_size=1000)\n",
    "splits = text_splitter.split_documents(pdf_budget)\n",
    "docs = splits + facts_docs"
   ]
  },
  {
   "cell_type": "code",
   "execution_count": 99,
   "metadata": {},
   "outputs": [],
   "source": [
    "vectorstore = FAISS.from_documents(docs, embedding=embedding)\n",
    "retriever = vectorstore.as_retriever()\n",
    "prompt = hub.pull(\"rlm/rag-prompt\")\n",
    "rag_chain = (\n",
    "    {\"context\": retriever | format_docs, \"question\": RunnablePassthrough()}\n",
    "    | prompt\n",
    "    | llm\n",
    "    | StrOutputParser()\n",
    ")"
   ]
  },
  {
   "cell_type": "code",
   "execution_count": 100,
   "metadata": {},
   "outputs": [
    {
     "data": {
      "text/plain": [
       "[Document(page_content='*   De budgetaanvraag voor NTR in 2024 is 61.407.904.'),\n",
       " Document(page_content='*   De budgetaanvraag voor NOS in 2024 is 158.456.648.'),\n",
       " Document(page_content='*   De budgetaanvraag voor NPO in 2024 is 134.979.571.'),\n",
       " Document(page_content='*   De prognose voor NTR in 2023 is 59.543.254.')]"
      ]
     },
     "execution_count": 100,
     "metadata": {},
     "output_type": "execute_result"
    }
   ],
   "source": [
    "retriever.invoke(\n",
    "    \"wat is de budget aanvraag van de NTR in 2024?\"\n",
    ")"
   ]
  },
  {
   "cell_type": "code",
   "execution_count": 101,
   "metadata": {},
   "outputs": [
    {
     "data": {
      "text/markdown": [
       "De budgetaanvraag van de NTR in 2024 is 61.407.904."
      ],
      "text/plain": [
       "<IPython.core.display.Markdown object>"
      ]
     },
     "execution_count": 101,
     "metadata": {},
     "output_type": "execute_result"
    }
   ],
   "source": [
    "Markdown(\n",
    "    rag_chain.invoke(\n",
    "        \"wat is de budget aanvraag van de NTR in 2024?\"\n",
    "    )\n",
    ")"
   ]
  },
  {
   "cell_type": "code",
   "execution_count": 102,
   "metadata": {},
   "outputs": [
    {
     "data": {
      "text/markdown": [
       "De totale budgetaanvraag voor zendgemachtigden in 2024 is 477.450.160. De budgetaanvraag voor Omroepverenigingen met erkenning in 2024 is 249.276.395."
      ],
      "text/plain": [
       "<IPython.core.display.Markdown object>"
      ]
     },
     "execution_count": 102,
     "metadata": {},
     "output_type": "execute_result"
    }
   ],
   "source": [
    "Markdown(\n",
    "    rag_chain.invoke(\n",
    "        \"wat is de budget aanvraag totaal zendgemachtigden in 2024?\"\n",
    "    )\n",
    ")"
   ]
  },
  {
   "cell_type": "markdown",
   "metadata": {},
   "source": [
    "Both answers are correct now! 🎉♡\n",
    "\n",
    "That is amazing progress. Note, that we did not _remove_ the other chunks from the text, we only **added** the extra facts extracted from the table. This is a huge gain in accuracy for answering questions based on complex data types like tables, graphs and images.\n",
    "\n"
   ]
  },
  {
   "cell_type": "markdown",
   "metadata": {},
   "source": [
    "Great. We now got both semantic results and keyword-like matched results by combining BM25 with vector search. \n",
    "\n",
    "> #### Exercises 📝\n",
    "> - Are there any cases that the above technique does not work?\n",
    "> - How does the cost compare from text-models to going multimodal? Make a comparison.\n",
    "> - What assumptions were made in the above implementation? How can we circumvent these assumptions and move towards a production level system?\n",
    "> - Imagine you are dealing with large PDF files with few tables in them. How would you go about parsing those? Hint: can we detect tables using lower-level and cheaper techniques before passing them to a powerful yet more expensive multimodal LLM?\n",
    "> \n",
    "> ##### 🎁 Bonus exercise\n",
    "> Reimplement the above solution using different PDF's. Challenge yourself with some hard-to-parse content 😉."
   ]
  }
 ],
 "metadata": {
  "kernelspec": {
   "display_name": "levels-of-rag",
   "language": "python",
   "name": "python3"
  },
  "language_info": {
   "codemirror_mode": {
    "name": "ipython",
    "version": 3
   },
   "file_extension": ".py",
   "mimetype": "text/x-python",
   "name": "python",
   "nbconvert_exporter": "python",
   "pygments_lexer": "ipython3",
   "version": "3.11.1"
  }
 },
 "nbformat": 4,
 "nbformat_minor": 2
}
