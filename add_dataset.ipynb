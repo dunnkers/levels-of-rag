{
 "cells": [
  {
   "cell_type": "code",
   "execution_count": 1,
   "metadata": {},
   "outputs": [],
   "source": [
    "import requests\n",
    "import pandas as pd"
   ]
  },
  {
   "cell_type": "code",
   "execution_count": 2,
   "metadata": {},
   "outputs": [
    {
     "data": {
      "text/plain": [
       "dict_keys(['schedule'])"
      ]
     },
     "execution_count": 2,
     "metadata": {},
     "output_type": "execute_result"
    }
   ],
   "source": [
    "json_file = \"https://eindhoven2024.pydata.org/cfp/schedule/export/schedule.json\"\n",
    "response = requests.get(json_file)\n",
    "data = response.json()\n",
    "data.keys()"
   ]
  },
  {
   "cell_type": "code",
   "execution_count": 3,
   "metadata": {},
   "outputs": [],
   "source": [
    "rooms = data[\"schedule\"][\"conference\"][\"days\"][0][\"rooms\"].values()\n",
    "sessions_per_room = [\n",
    "    pd.DataFrame(room)\n",
    "    for room in rooms\n",
    "]\n",
    "sessions = pd.concat(sessions_per_room)"
   ]
  },
  {
   "cell_type": "code",
   "execution_count": 4,
   "metadata": {},
   "outputs": [
    {
     "data": {
      "text/plain": [
       "Index(['id', 'guid', 'logo', 'date', 'start', 'duration', 'room', 'slug',\n",
       "       'url', 'title', 'subtitle', 'track', 'type', 'language', 'abstract',\n",
       "       'description', 'recording_license', 'do_not_record', 'persons', 'links',\n",
       "       'attachments', 'answers'],\n",
       "      dtype='object')"
      ]
     },
     "execution_count": 4,
     "metadata": {},
     "output_type": "execute_result"
    }
   ],
   "source": [
    "sessions.columns"
   ]
  },
  {
   "cell_type": "code",
   "execution_count": 5,
   "metadata": {},
   "outputs": [
    {
     "data": {
      "text/plain": [
       "id                                                                  17\n",
       "guid                              a2eb19a3-1642-5781-bb82-45b681556560\n",
       "logo                                                                  \n",
       "date                                         2024-07-11T10:00:00+02:00\n",
       "start                                                            10:00\n",
       "duration                                                         00:30\n",
       "room                                                          If (1.1)\n",
       "slug                           cfp-17-explainable-ai-in-the-lime-light\n",
       "url                  https://eindhoven2024.pydata.org/cfp/talk/QFW9XN/\n",
       "title                                 Explainable AI in the LIME-light\n",
       "subtitle                                                              \n",
       "track                                                             None\n",
       "type                                                              Talk\n",
       "language                                                            en\n",
       "abstract             LIME, a model-agnostic AI framework, illuminat...\n",
       "description          Although AI toolkits have simplified model imp...\n",
       "recording_license                                                     \n",
       "do_not_record                                                    False\n",
       "persons              [{'id': 25, 'code': 'LHNM7K', 'public_name': '...\n",
       "links                                                               []\n",
       "attachments                                                         []\n",
       "answers                                                             []\n",
       "Name: 0, dtype: object"
      ]
     },
     "execution_count": 5,
     "metadata": {},
     "output_type": "execute_result"
    }
   ],
   "source": [
    "sessions.iloc[0]"
   ]
  },
  {
   "cell_type": "code",
   "execution_count": 6,
   "metadata": {},
   "outputs": [
    {
     "data": {
      "text/plain": [
       "[{'id': 25,\n",
       "  'code': 'LHNM7K',\n",
       "  'public_name': 'Sanne van den Bogaart',\n",
       "  'biography': 'For the past 3 years I have been working as a Data Science consultant at Pipple. Since Pipple is active in multiple different sectors, I have had the opportunity to do many different projects. What I have discovered is that explainability of the machine learning used was a critical topic in all of these projects. Fortunately, frameworks like LIME have emerged to provided this much needed explainability. I am excited to discuss more about LIME at the upcoming 2024 PyData Eindhoven conference.',\n",
       "  'answers': []}]"
      ]
     },
     "execution_count": 6,
     "metadata": {},
     "output_type": "execute_result"
    }
   ],
   "source": [
    "sessions.iloc[0][\"persons\"]"
   ]
  },
  {
   "cell_type": "markdown",
   "metadata": {},
   "source": [
    "Create 1 column combining all people in the `persons` array."
   ]
  },
  {
   "cell_type": "code",
   "execution_count": 7,
   "metadata": {},
   "outputs": [],
   "source": [
    "def format_persons(persons):\n",
    "    return \"\\n\".join(\n",
    "        f\"\"\" ### {person[\"public_name\"]}\n",
    "{person[\"biography\"]}\n",
    "\"\"\"\n",
    "        for person in persons\n",
    "    )\n",
    "sessions[\"persons_text\"] = sessions[\"persons\"].apply(format_persons)\n"
   ]
  },
  {
   "cell_type": "markdown",
   "metadata": {},
   "source": [
    "Format an entire session text, combining all columns."
   ]
  },
  {
   "cell_type": "code",
   "execution_count": null,
   "metadata": {},
   "outputs": [],
   "source": [
    "\n",
    "def format_session_text(session):\n",
    "    return f\"\"\"# {session[\"title\"]}\n",
    "{session[\"abstract\"]}\n",
    "\n",
    "## Description\n",
    "{session[\"description\"]}\n",
    "\n",
    "## Timeslot\n",
    "{session[\"date\"]} with a duration of {session[\"duration\"]}\n",
    "\n",
    "## Room\n",
    "{session[\"room\"]}\n",
    "\n",
    "## Speaker\n",
    "{session[\"persons_text\"]}\n",
    "\"\"\"\n",
    "sessions[\"text\"] = sessions.apply(\n",
    "    format_session_text,\n",
    "    axis=1\n",
    ")"
   ]
  },
  {
   "cell_type": "code",
   "execution_count": 11,
   "metadata": {},
   "outputs": [],
   "source": [
    "sessions = sessions.set_index(\"id\")"
   ]
  },
  {
   "cell_type": "code",
   "execution_count": 12,
   "metadata": {},
   "outputs": [],
   "source": [
    "sessions.to_json(\"data/pydata_eindhoven_2024_sessions.json\")"
   ]
  }
 ],
 "metadata": {
  "kernelspec": {
   "display_name": "levels-of-rag",
   "language": "python",
   "name": "python3"
  },
  "language_info": {
   "codemirror_mode": {
    "name": "ipython",
    "version": 3
   },
   "file_extension": ".py",
   "mimetype": "text/x-python",
   "name": "python",
   "nbconvert_exporter": "python",
   "pygments_lexer": "ipython3",
   "version": "3.11.1"
  }
 },
 "nbformat": 4,
 "nbformat_minor": 2
}
