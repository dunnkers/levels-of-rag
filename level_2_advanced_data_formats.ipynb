{
 "cells": [
  {
   "cell_type": "code",
   "execution_count": 3,
   "metadata": {},
   "outputs": [
    {
     "name": "stderr",
     "output_type": "stream",
     "text": [
      "/Users/dunnkers/.pyenv/versions/3.11.1/envs/levels-of-rag/lib/python3.11/site-packages/tqdm/auto.py:21: TqdmWarning: IProgress not found. Please update jupyter and ipywidgets. See https://ipywidgets.readthedocs.io/en/stable/user_install.html\n",
      "  from .autonotebook import tqdm as notebook_tqdm\n"
     ]
    }
   ],
   "source": [
    "from langchain_community.document_loaders import PyPDFLoader\n",
    "from IPython.display import Markdown\n",
    "from dotenv import load_dotenv\n",
    "from langchain_google_genai import ChatGoogleGenerativeAI\n",
    "from langchain_google_genai import GoogleGenerativeAIEmbeddings\n",
    "import requests\n",
    "import pandas as pd\n",
    "from sklearn.manifold import TSNE\n",
    "import numpy as np\n",
    "import plotly.express as px\n",
    "from langchain import hub\n",
    "from langchain_community.vectorstores import FAISS\n",
    "from langchain_core.output_parsers import StrOutputParser\n",
    "from langchain_core.runnables import RunnablePassthrough\n",
    "from langchain_text_splitters import RecursiveCharacterTextSplitter\n",
    "from langchain_community.document_loaders import DataFrameLoader\n",
    "from langchain_core.prompts import ChatPromptTemplate\n",
    "from langchain_openai import ChatOpenAI\n"
   ]
  },
  {
   "cell_type": "code",
   "execution_count": 4,
   "metadata": {},
   "outputs": [
    {
     "data": {
      "text/plain": [
       "True"
      ]
     },
     "execution_count": 4,
     "metadata": {},
     "output_type": "execute_result"
    }
   ],
   "source": [
    "load_dotenv()"
   ]
  },
  {
   "cell_type": "code",
   "execution_count": 17,
   "metadata": {},
   "outputs": [
    {
     "name": "stderr",
     "output_type": "stream",
     "text": [
      "Overwriting cache for 0 11250\n"
     ]
    },
    {
     "data": {
      "text/markdown": [
       " \n",
       "© Space Exploration Technologies Corp.  All rights reserved.  \n",
       "  \n",
       " \n",
       " \n",
       " \n",
       " \n",
       " \n",
       " \n",
       " \n",
       " \n",
       " \n",
       " \n",
       " \n",
       " \n",
       " \n",
       " \n",
       " \n",
       " \n",
       " \n",
       " \n",
       "COPYRIGHT  \n",
       "Subject to the existing rights of third parties, Space Exploration Technologies Corp. (SpaceX) is the owner of the copyright \n",
       "in this work, and no portion hereof is to be copied, reproduced, or disseminated without the prior written consent of \n",
       "SpaceX.  \n"
      ],
      "text/plain": [
       "<IPython.core.display.Markdown object>"
      ]
     },
     "execution_count": 17,
     "metadata": {},
     "output_type": "execute_result"
    }
   ],
   "source": [
    "Markdown(\n",
    "    PyPDFLoader(\"data/falcon/falcon-users-guide-2021-09.pdf\") \\\n",
    "    .load() \\\n",
    "    [0] \\\n",
    "    .page_content\n",
    ")"
   ]
  },
  {
   "cell_type": "code",
   "execution_count": 16,
   "metadata": {},
   "outputs": [
    {
     "data": {
      "text/markdown": [
       "CAPABILITIES & SERVICESFALCON 9DESTINATIONSpaceX offers competitive pricing for its Falcon 9 and Falcon Heavy launch services. SpaceXalso offers crew transportation services tolow-Earth orbit (LEO) destinations.See additional information at spacex.com/humanspaceflight.\n",
       "LOW-EARTH ORBIT (LEO)GEOSYNCHRONOUS TRANSFER ORBIT (GTO)PAYLOAD TO MARS22,000 kg50,265 lbs8,300 kg18,300 lbs4,020 kg8,860 lbsSTANDARD PAYMENT PLAN(through 2024)$69.75 MUp to 5.5 mT TO GTOPRICE *\n",
       "*Pricing adjustments made in January 2024 account for inflation. Missions purchased in 2024 but flown beyond 2027 may be subject to additional adjustments due to inflation.Performance represents max capability on fully expendable vehicle.\n"
      ],
      "text/plain": [
       "<IPython.core.display.Markdown object>"
      ]
     },
     "execution_count": 16,
     "metadata": {},
     "output_type": "execute_result"
    }
   ],
   "source": [
    "Markdown(\n",
    "    PyPDFLoader(\"data/falcon/Capabilities&Services.pdf\") \\\n",
    "    .load() \\\n",
    "    [0] \\\n",
    "    .page_content\n",
    ")\n"
   ]
  },
  {
   "cell_type": "code",
   "execution_count": 26,
   "metadata": {},
   "outputs": [
    {
     "data": {
      "text/markdown": [
       "Falcon 9 Launch Vehicle\n",
       "NAFCOM  Cost Estimates\n",
       "August 2011\n",
       "NASA Associate  Deputy Administrator  for Policy\n",
       "1"
      ],
      "text/plain": [
       "<IPython.core.display.Markdown object>"
      ]
     },
     "execution_count": 26,
     "metadata": {},
     "output_type": "execute_result"
    }
   ],
   "source": [
    "Markdown(\n",
    "    PyPDFLoader(\"data/falcon/586023main_8-3-11_NAFCOM.pdf\") \\\n",
    "    .load() \\\n",
    "    [0] \\\n",
    "    .page_content\n",
    ")\n"
   ]
  },
  {
   "cell_type": "code",
   "execution_count": null,
   "metadata": {},
   "outputs": [],
   "source": [
    "file_paths = [\n",
    "    \"data/falcon/falcon-users-guide-2021-09.pdf\",\n",
    "    \"data/falcon/Capabilities&Services.pdf\",\n",
    "    \"data/falcon/586023main_8-3-11_NAFCOM.pdf\",\n",
    "]\n",
    "docs = []\n",
    "\n",
    "for file_path in file_paths:\n",
    "    loader = PyPDFLoader(file_path)\n",
    "    docs += loader.load()\n",
    "\n",
    "print(len(docs))"
   ]
  },
  {
   "cell_type": "code",
   "execution_count": 9,
   "metadata": {},
   "outputs": [
    {
     "data": {
      "text/markdown": [
       " \n",
       "© Space Exploration Technologies Corp.  All rights reserved.  \n",
       "  \n",
       " \n",
       " \n",
       " \n",
       " \n",
       " \n",
       " \n",
       " \n",
       " \n",
       " \n",
       " \n",
       " \n",
       " \n",
       " \n",
       " \n",
       " \n",
       " \n",
       " \n",
       " \n",
       "COPYRIGHT  \n",
       "Subject to the existing rights of third parties, Space Exploration Technologies Corp. (SpaceX) is the owner of the copyright \n",
       "in this work, and no portion hereof is to be copied, reproduced, or disseminated without the prior written consent of \n",
       "SpaceX.  \n"
      ],
      "text/plain": [
       "<IPython.core.display.Markdown object>"
      ]
     },
     "execution_count": 9,
     "metadata": {},
     "output_type": "execute_result"
    }
   ],
   "source": [
    "Markdown(\n",
    "    docs[0].page_content\n",
    ")"
   ]
  },
  {
   "cell_type": "code",
   "execution_count": 71,
   "metadata": {},
   "outputs": [
    {
     "data": {
      "text/plain": [
       "Document(page_content='Falcon\\xa09\\xa0NAFCOM \\xa0Updated\\xa0Cost\\xa0Estimate\\xa0Comparison\\nUpdated\\n(Cost Plus FeeVsFirm Fixed Price)\\n (Cost\\xa0Plus\\xa0Fee\\xa0Vs.\\xa0Firm\\xa0Fixed\\xa0Price)\\nFirm\\xa0Fixed\\xa0Price\\xa0Acquisition Cost \\xa0Plus\\xa0Fee\\xa0Acquisition\\nWeight DDT&E 2 \\xa0Test\\xa0Flt\\xa0Units Total DDT&E 2 \\xa0Test\\xa0Flt\\xa0Units Total\\nElements (lbs)(FY2010\\xa0$M)(FY2010\\xa0$M)(FY2010\\xa0$M) (FY2010\\xa0$M)(FY2010\\xa0$M)(FY2010\\xa0$M) () ( $) ( $) ( $) ( $) ( $) ( $)\\nStage\\xa0One\\xa0(Including\\xa0Engines) 39,080 $188.7 $109.3 $298.0 $370.6 $218.3 $588.9\\nStage\\xa0Two\\xa0(Including\\xa0Engine) 6,506 $89.0 $23.6 $112.6 $184.7 $59.6 $244.4\\nFee\\xa0(12.5%) $0.0 $0.0 $0.0 $69.4 $34.7 $104.2\\nProgram Support (10%) $0.0 $0.0 $0.0 $62.5 $31.3 $93.7 Program\\xa0Support\\xa0(10%) $0.0 $0.0 $0.0 $62.5 $31.3 $93.7\\nContingency \\xa0(30%\\xa0Vehicle,\\xa010%\\xa0Engine)) $0.0 $0.0 $0.0 $193.2 $91.7 $284.9\\n‐Based\\xa0on technical \\xa0corrections \\xa0and\\xa0the\\xa0additional \\xa0insight\\xa0in\\xa0to\\xa0the\\xa0mass\\xa0summary \\xa0information \\xa0as\\xa0well\\xa0as\\xa0hardware \\xa0heritage\\xa0\\ngained\\xa0from\\xa0a\\xa0recent\\xa0trip\\xa0to\\xa0the\\xa0SpaceX facilit y.Vehicle\\xa0Level\\xa0Integration\\xa0(8%) $22.2 $10.6 $32.8 $44.4 $22.2 $66.7\\nTotal 45,586 $299.9 $143.6 $443.4 $924.9 $457.9 $1,382.7\\ng p p y\\n‐Represents \\xa0DDT&E\\xa0and\\xa0two\\xa0test\\xa0flight\\xa0unit\\n‐Cost\\xa0plus\\xa0fee\\xa0acquisition \\xa0approach \\xa0include\\xa0fee,\\xa0program\\xa0support,\\xa0and\\xa0contingency \\xa0where\\xa0firm\\xa0fixed\\xa0price\\xa0acquisition \\xa0reflects\\xa0a\\xa0\\nspace\\xa0act\\xa0agreement \\xa0approach\\n9', metadata={'source': 'data/falcon/586023main_8-3-11_NAFCOM.pdf', 'page': 8})"
      ]
     },
     "execution_count": 71,
     "metadata": {},
     "output_type": "execute_result"
    }
   ],
   "source": [
    "docs[-1]"
   ]
  },
  {
   "cell_type": "code",
   "execution_count": 27,
   "metadata": {},
   "outputs": [],
   "source": [
    "llm = ChatOpenAI(\n",
    "    model=\"gpt-3.5-turbo\",\n",
    "    temperature=0,\n",
    "    model_kwargs={\"top_p\": 0.0001, \"seed\": 42},\n",
    ")\n",
    "embedding = GoogleGenerativeAIEmbeddings(model=\"models/text-embedding-004\")"
   ]
  },
  {
   "cell_type": "code",
   "execution_count": 28,
   "metadata": {},
   "outputs": [],
   "source": [
    "text_splitter = RecursiveCharacterTextSplitter(chunk_size=1000, chunk_overlap=200)\n",
    "splits = text_splitter.split_documents(docs)"
   ]
  },
  {
   "cell_type": "code",
   "execution_count": 75,
   "metadata": {},
   "outputs": [],
   "source": [
    "# uncomment to re-create vectors and vectorstore\n",
    "# vectorstore = FAISS.from_documents(splits, embedding=embedding)"
   ]
  },
  {
   "cell_type": "code",
   "execution_count": 29,
   "metadata": {},
   "outputs": [],
   "source": [
    "vectorstore = FAISS.load_local(\"data/falcon_vectorstore.faiss\", embeddings=embedding, allow_dangerous_deserialization=True)"
   ]
  },
  {
   "cell_type": "code",
   "execution_count": 30,
   "metadata": {},
   "outputs": [],
   "source": [
    "retriever = vectorstore.as_retriever()"
   ]
  },
  {
   "cell_type": "code",
   "execution_count": 31,
   "metadata": {},
   "outputs": [],
   "source": [
    "# uncomment to save the vectorstore\n",
    "# vectorstore.save_local(\"data/falcon_vectorstore.faiss\")"
   ]
  },
  {
   "cell_type": "code",
   "execution_count": 79,
   "metadata": {},
   "outputs": [
    {
     "data": {
      "text/plain": [
       "[Document(page_content='© Space Exploration Technologies Corp.  All rights reserved.  5 \\n \\n \\nThe standard pric e for Falcon  9 and Falcon Heavy launch services can be found at  \\nhttps://www.spacex.com/media/Capabilities&Services.pdf . Pricing includes range services, standard payload \\nintegration an d third -party liability insurance. Please see Section 7.3 for a complete description of standard services . \\nNonstandard services  are also available.', metadata={'source': 'data/falcon/falcon-users-guide-2021-09.pdf', 'page': 8}),\n",
       " Document(page_content='Contracting  ................................ ................................ ................................ ................................ ................................ .........  52 \\n Mission Management  ................................ ................................ ................................ ................................ ......................  52 \\n Standard Services  ................................ ................................ ................................ ................................ .............................  53 \\n Schedule  ................................ ................................ ................................ ................................ ................................ .............  54 \\n Customer Deliverables  ................................ ................................ ................................ ................................ .....................  54', metadata={'source': 'data/falcon/falcon-users-guide-2021-09.pdf', 'page': 2}),\n",
       " Document(page_content='© Space Exploration Technologies Corp.  All rights reserved.  54 \\n \\uf0b7 Perform 3-axis attitude control  or spin -stabilized spacecraft separation.  \\n\\uf0b7 Perform a collision avoidance  maneuver (as required).  \\n\\uf0b7 Verify spacecraft separation from the launch vehicle and provide an orbit injection report.  \\n\\uf0b7 Deliver a final post -flight report, which will include payload separation confirmation, ephemeris, payload \\nenvironment, significant events and any mission -impacting anomalies.  \\nA detailed statement of work and deliverables list, including these standard services, will be developed during contract \\nnegotiation.  \\n \\nTable 7-1 provides a standard launch integration schedule, s tarting at contract sign ature  and proceeding through the \\npost -flight summary. A detailed schedule, including required customer deliverables, is developed during contract \\nnegotiation.  \\nEstimated  Schedule  Title  Purpose  \\nL-24 months  Contract signature  Provides authority to proceed with work', metadata={'source': 'data/falcon/falcon-users-guide-2021-09.pdf', 'page': 57}),\n",
       " Document(page_content='Customer Deliverables  ................................ ................................ ................................ ................................ .....................  54 \\n \\n  \\n Overview and Schedule  ................................ ................................ ................................ ................................ ....................  56 \\n Spacecraft Delivery and Transportati on ................................ ................................ ................................ .......................  56', metadata={'source': 'data/falcon/falcon-users-guide-2021-09.pdf', 'page': 2})]"
      ]
     },
     "execution_count": 79,
     "metadata": {},
     "output_type": "execute_result"
    }
   ],
   "source": [
    "retriever.invoke(\n",
    "    \"standard payment plan\"\n",
    ")"
   ]
  },
  {
   "cell_type": "code",
   "execution_count": 32,
   "metadata": {},
   "outputs": [],
   "source": [
    "prompt = hub.pull(\"rlm/rag-prompt\")"
   ]
  },
  {
   "cell_type": "code",
   "execution_count": 33,
   "metadata": {},
   "outputs": [],
   "source": [
    "def format_docs(docs):\n",
    "    return \"\\n\\n\".join(doc.page_content for doc in docs)\n",
    "\n",
    "rag_chain = (\n",
    "    {\"context\": retriever | format_docs, \"question\": RunnablePassthrough()}\n",
    "    | prompt\n",
    "    | llm\n",
    "    | StrOutputParser()\n",
    ")"
   ]
  },
  {
   "cell_type": "code",
   "execution_count": 34,
   "metadata": {},
   "outputs": [
    {
     "data": {
      "text/plain": [
       "[Document(page_content='Falcon\\xa09\\xa0NAFCOM \\xa0Updated\\xa0Cost\\xa0Estimate\\xa0Comparison\\nUpdated\\n(Cost Plus FeeVsFirm Fixed Price)\\n (Cost\\xa0Plus\\xa0Fee\\xa0Vs.\\xa0Firm\\xa0Fixed\\xa0Price)\\nFirm\\xa0Fixed\\xa0Price\\xa0Acquisition Cost \\xa0Plus\\xa0Fee\\xa0Acquisition\\nWeight DDT&E 2 \\xa0Test\\xa0Flt\\xa0Units Total DDT&E 2 \\xa0Test\\xa0Flt\\xa0Units Total\\nElements (lbs)(FY2010\\xa0$M)(FY2010\\xa0$M)(FY2010\\xa0$M) (FY2010\\xa0$M)(FY2010\\xa0$M)(FY2010\\xa0$M) () ( $) ( $) ( $) ( $) ( $) ( $)\\nStage\\xa0One\\xa0(Including\\xa0Engines) 39,080 $188.7 $109.3 $298.0 $370.6 $218.3 $588.9\\nStage\\xa0Two\\xa0(Including\\xa0Engine) 6,506 $89.0 $23.6 $112.6 $184.7 $59.6 $244.4\\nFee\\xa0(12.5%) $0.0 $0.0 $0.0 $69.4 $34.7 $104.2\\nProgram Support (10%) $0.0 $0.0 $0.0 $62.5 $31.3 $93.7 Program\\xa0Support\\xa0(10%) $0.0 $0.0 $0.0 $62.5 $31.3 $93.7\\nContingency \\xa0(30%\\xa0Vehicle,\\xa010%\\xa0Engine)) $0.0 $0.0 $0.0 $193.2 $91.7 $284.9\\n‐Based\\xa0on technical \\xa0corrections \\xa0and\\xa0the\\xa0additional \\xa0insight\\xa0in\\xa0to\\xa0the\\xa0mass\\xa0summary \\xa0information \\xa0as\\xa0well\\xa0as\\xa0hardware \\xa0heritage\\xa0\\ngained\\xa0from\\xa0a\\xa0recent\\xa0trip\\xa0to\\xa0the\\xa0SpaceX facilit y.Vehicle\\xa0Level\\xa0Integration\\xa0(8%) $22.2 $10.6 $32.8 $44.4 $22.2 $66.7', metadata={'source': 'data/falcon/586023main_8-3-11_NAFCOM.pdf', 'page': 8}),\n",
       " Document(page_content='Falcon\\xa09\\xa0NAFCOM \\xa0Cost\\xa0Estimate\\xa0Comparison\\nInitial\\n(Both Estimates AreCost Plus Fee)\\n (Both\\xa0Estimates \\xa0Are\\xa0Cost\\xa0Plus\\xa0Fee)\\n\\xa0\\xa0\\xa0\\xa0\\xa0\\xa0\\xa0\\xa0\\xa0\\xa0\\xa0\\xa0\\xa0\\xa0\\xa0\\xa0\\xa0\\xa0\\xa0\\xa0\\xa0\\xa0\\xa0\\xa0\\xa0 \\xa0\\xa0\\xa0\\xa0\\xa0\\xa0\\xa0\\xa0\\xa0\\xa0\\xa0\\xa0\\xa0\\xa0\\xa0\\xa0\\xa0\\xa0\\xa0\\xa0\\xa0\\xa0\\xa0\\xa0\\xa0\\xa0\\xa0\\xa0\\xa0\\xa0\\xa0 (All\\xa0Costs\\xa0Are\\xa0In\\xa0FY2010\\xa0$M)\\nCost\\xa0Plus\\xa0Fee Cost\\xa0Plus\\xa0Fee\\nSpace‐x\\xa0Approach NASA \\xa0Approach\\nWeight DDT&E Flight \\xa0Unit Total DDT&E Flight \\xa0Unit Total\\nElements (lbs) (FY2010 \\xa0$M) (FY2010 \\xa0$M) (FY2010 \\xa0$M) (FY2010 \\xa0$M) (FY2010 \\xa0$M) (FY2010 \\xa0$M)\\nStage\\xa0One\\xa0(Including\\xa0Engines) 39,080 $614 $87 $701 $1,535 $206 $1,741\\nStage\\xa0Two\\xa0(Including\\xa0Engine) 6,520 $331 $12 $343 $608 $44 $651\\nFee\\xa0(12.5%) $118 $12 $130 $268 $30 $298\\nProgram\\xa0Support\\xa0(10%) $107 $4 $111 $241 $21 $263\\nContingency \\xa0(30%\\xa0Vehicle,\\xa010%\\xa0Engine)) $251 $11 $262 $674 $68 $741\\nVehicle\\xa0Level\\xa0Integration \\xa0(8%) $106 $5 $111 $258 $24 $282\\nTotal 45,600 $1,528 $131 $1,659 $3,584 $393 $3,977\\n‐Based\\xa0on\\xa0November, \\xa02010\\xa0weight\\xa0estimate\\xa0and\\xa0technical\\xa0data\\xa0from\\xa0SpaceX\\n‐Represents\\xa0DDT&E\\xa0and\\xa0one\\xa0flight\\xa0unit p g', metadata={'source': 'data/falcon/586023main_8-3-11_NAFCOM.pdf', 'page': 7}),\n",
       " Document(page_content='Falcon 9NAFCOM Cost Estimate ComparisonFalcon\\xa09\\xa0Cost\\xa0Estimates \\xa0Trace\\nFalcon\\xa09\\xa0NAFCOM \\xa0Cost\\xa0Estimate\\xa0Comparison\\n\\xa0\\xa0\\xa0\\xa0\\xa0\\xa0\\xa0\\xa0 Falcon\\xa09\\xa0NAFCOM \\xa0Cost\\xa0Estimate \\xa0Comparison\\n(All\\xa0Costs\\xa0Are\\xa0In\\xa0FY2010\\xa0$M) ( $)\\n\\xa0\\xa0\\xa0\\xa0\\xa0\\xa0\\xa0\\xa0\\xa0\\xa0\\xa0\\xa0\\xa0\\xa0\\xa0\\xa0\\xa0\\xa0\\xa0\\xa0 Initial\\xa0Estimate \\xa0\\xa0\\xa0\\xa0\\xa0\\xa0\\xa0\\xa0\\xa0\\xa0\\xa0\\xa0\\xa0\\xa0\\xa0\\xa0\\xa0\\xa0 Updated \\xa0Estimate\\nCost\\xa0Plus\\xa0Fee Cost \\xa0Plus\\xa0Fee Firm \\xa0Fixed\\xa0Price Cost \\xa0Plus\\xa0Fee\\nTotal Total Total Total\\n$ $ $ $ Elements (FY2010 \\xa0$M) (FY2010 \\xa0$M) (FY2010 \\xa0$M) (FY2010 \\xa0$M)\\nFalcon\\xa09\\xa0Total $1,695 $3,977 $443 $1,383\\nAssumptions \\xa0inserted\\xa0after\\xa0Space‐X\\xa0visit:\\n‐More\\xa0heritage\\xa0from\\xa0Falcon\\xa01\\xa0and\\xa0use\\xa0of\\xa0off‐the‐shelf\\xa0hardware \\xa0than\\xa0the\\xa0initial\\xa0information\\n‐Nine redundant \\xa0controllers \\xa0and\\xa0wiring\\xa0harnesses \\xa0were\\xa0not\\xa0identified \\xa0in\\xa0the\\xa0initial\\xa0information \\xa0\\n‐Structure weights \\xa0were\\xa0included\\xa0in\\xa0the\\xa0electronics\\n‐Separation \\xa0subsystem \\xa0mass\\xa0was\\xa0included\\xa0in\\xa0structure\\nInterstage (composite material) was included instructures (aluminum lithium material ) ‐Interstage \\xa0(composite \\xa0material)\\xa0was\\xa0included\\xa0in\\xa0structures \\xa0(aluminum ‐lithium material )', metadata={'source': 'data/falcon/586023main_8-3-11_NAFCOM.pdf', 'page': 4}),\n",
       " Document(page_content='© Space Exploration Technologies Corp.  All rights reserved.  5 \\n \\n \\nThe standard pric e for Falcon  9 and Falcon Heavy launch services can be found at  \\nhttps://www.spacex.com/media/Capabilities&Services.pdf . Pricing includes range services, standard payload \\nintegration an d third -party liability insurance. Please see Section 7.3 for a complete description of standard services . \\nNonstandard services  are also available.', metadata={'source': 'data/falcon/falcon-users-guide-2021-09.pdf', 'page': 8})]"
      ]
     },
     "execution_count": 34,
     "metadata": {},
     "output_type": "execute_result"
    }
   ],
   "source": [
    "retriever.invoke(\n",
    "    \"whats the price for a falcon 9 rocket?\"\n",
    ")"
   ]
  },
  {
   "cell_type": "code",
   "execution_count": 35,
   "metadata": {},
   "outputs": [
    {
     "data": {
      "text/markdown": [
       "The price for a Falcon 9 rocket can be found on the SpaceX website in the document \"Capabilities & Services.\" The pricing includes range services, standard payload integration, and third-party liability insurance. Nonstandard services are also available for additional costs."
      ],
      "text/plain": [
       "<IPython.core.display.Markdown object>"
      ]
     },
     "execution_count": 35,
     "metadata": {},
     "output_type": "execute_result"
    }
   ],
   "source": [
    "Markdown(\n",
    "    rag_chain.invoke(\n",
    "        \"whats the price for a falcon 9 rocket?\"\n",
    "    )\n",
    ")"
   ]
  },
  {
   "cell_type": "code",
   "execution_count": 36,
   "metadata": {},
   "outputs": [
    {
     "data": {
      "text/plain": [
       "[Document(page_content='Falcon\\xa09\\xa0NAFCOM \\xa0Updated\\xa0Cost\\xa0Estimate\\xa0Comparison\\nUpdated\\n(Cost Plus FeeVsFirm Fixed Price)\\n (Cost\\xa0Plus\\xa0Fee\\xa0Vs.\\xa0Firm\\xa0Fixed\\xa0Price)\\nFirm\\xa0Fixed\\xa0Price\\xa0Acquisition Cost \\xa0Plus\\xa0Fee\\xa0Acquisition\\nWeight DDT&E 2 \\xa0Test\\xa0Flt\\xa0Units Total DDT&E 2 \\xa0Test\\xa0Flt\\xa0Units Total\\nElements (lbs)(FY2010\\xa0$M)(FY2010\\xa0$M)(FY2010\\xa0$M) (FY2010\\xa0$M)(FY2010\\xa0$M)(FY2010\\xa0$M) () ( $) ( $) ( $) ( $) ( $) ( $)\\nStage\\xa0One\\xa0(Including\\xa0Engines) 39,080 $188.7 $109.3 $298.0 $370.6 $218.3 $588.9\\nStage\\xa0Two\\xa0(Including\\xa0Engine) 6,506 $89.0 $23.6 $112.6 $184.7 $59.6 $244.4\\nFee\\xa0(12.5%) $0.0 $0.0 $0.0 $69.4 $34.7 $104.2\\nProgram Support (10%) $0.0 $0.0 $0.0 $62.5 $31.3 $93.7 Program\\xa0Support\\xa0(10%) $0.0 $0.0 $0.0 $62.5 $31.3 $93.7\\nContingency \\xa0(30%\\xa0Vehicle,\\xa010%\\xa0Engine)) $0.0 $0.0 $0.0 $193.2 $91.7 $284.9\\n‐Based\\xa0on technical \\xa0corrections \\xa0and\\xa0the\\xa0additional \\xa0insight\\xa0in\\xa0to\\xa0the\\xa0mass\\xa0summary \\xa0information \\xa0as\\xa0well\\xa0as\\xa0hardware \\xa0heritage\\xa0\\ngained\\xa0from\\xa0a\\xa0recent\\xa0trip\\xa0to\\xa0the\\xa0SpaceX facilit y.Vehicle\\xa0Level\\xa0Integration\\xa0(8%) $22.2 $10.6 $32.8 $44.4 $22.2 $66.7', metadata={'source': 'data/falcon/586023main_8-3-11_NAFCOM.pdf', 'page': 8}),\n",
       " Document(page_content='Falcon\\xa09\\xa0NAFCOM \\xa0Cost\\xa0Estimate\\xa0Comparison\\nInitial\\n(Both Estimates AreCost Plus Fee)\\n (Both\\xa0Estimates \\xa0Are\\xa0Cost\\xa0Plus\\xa0Fee)\\n\\xa0\\xa0\\xa0\\xa0\\xa0\\xa0\\xa0\\xa0\\xa0\\xa0\\xa0\\xa0\\xa0\\xa0\\xa0\\xa0\\xa0\\xa0\\xa0\\xa0\\xa0\\xa0\\xa0\\xa0\\xa0 \\xa0\\xa0\\xa0\\xa0\\xa0\\xa0\\xa0\\xa0\\xa0\\xa0\\xa0\\xa0\\xa0\\xa0\\xa0\\xa0\\xa0\\xa0\\xa0\\xa0\\xa0\\xa0\\xa0\\xa0\\xa0\\xa0\\xa0\\xa0\\xa0\\xa0\\xa0 (All\\xa0Costs\\xa0Are\\xa0In\\xa0FY2010\\xa0$M)\\nCost\\xa0Plus\\xa0Fee Cost\\xa0Plus\\xa0Fee\\nSpace‐x\\xa0Approach NASA \\xa0Approach\\nWeight DDT&E Flight \\xa0Unit Total DDT&E Flight \\xa0Unit Total\\nElements (lbs) (FY2010 \\xa0$M) (FY2010 \\xa0$M) (FY2010 \\xa0$M) (FY2010 \\xa0$M) (FY2010 \\xa0$M) (FY2010 \\xa0$M)\\nStage\\xa0One\\xa0(Including\\xa0Engines) 39,080 $614 $87 $701 $1,535 $206 $1,741\\nStage\\xa0Two\\xa0(Including\\xa0Engine) 6,520 $331 $12 $343 $608 $44 $651\\nFee\\xa0(12.5%) $118 $12 $130 $268 $30 $298\\nProgram\\xa0Support\\xa0(10%) $107 $4 $111 $241 $21 $263\\nContingency \\xa0(30%\\xa0Vehicle,\\xa010%\\xa0Engine)) $251 $11 $262 $674 $68 $741\\nVehicle\\xa0Level\\xa0Integration \\xa0(8%) $106 $5 $111 $258 $24 $282\\nTotal 45,600 $1,528 $131 $1,659 $3,584 $393 $3,977\\n‐Based\\xa0on\\xa0November, \\xa02010\\xa0weight\\xa0estimate\\xa0and\\xa0technical\\xa0data\\xa0from\\xa0SpaceX\\n‐Represents\\xa0DDT&E\\xa0and\\xa0one\\xa0flight\\xa0unit p g', metadata={'source': 'data/falcon/586023main_8-3-11_NAFCOM.pdf', 'page': 7}),\n",
       " Document(page_content='© Space Exploration Technologies Corp.  All rights reserved.  5 \\n \\n \\nThe standard pric e for Falcon  9 and Falcon Heavy launch services can be found at  \\nhttps://www.spacex.com/media/Capabilities&Services.pdf . Pricing includes range services, standard payload \\nintegration an d third -party liability insurance. Please see Section 7.3 for a complete description of standard services . \\nNonstandard services  are also available.', metadata={'source': 'data/falcon/falcon-users-guide-2021-09.pdf', 'page': 8}),\n",
       " Document(page_content='Falcon 9NAFCOM Cost Estimate ComparisonFalcon\\xa09\\xa0Cost\\xa0Estimates \\xa0Trace\\nFalcon\\xa09\\xa0NAFCOM \\xa0Cost\\xa0Estimate\\xa0Comparison\\n\\xa0\\xa0\\xa0\\xa0\\xa0\\xa0\\xa0\\xa0 Falcon\\xa09\\xa0NAFCOM \\xa0Cost\\xa0Estimate \\xa0Comparison\\n(All\\xa0Costs\\xa0Are\\xa0In\\xa0FY2010\\xa0$M) ( $)\\n\\xa0\\xa0\\xa0\\xa0\\xa0\\xa0\\xa0\\xa0\\xa0\\xa0\\xa0\\xa0\\xa0\\xa0\\xa0\\xa0\\xa0\\xa0\\xa0\\xa0 Initial\\xa0Estimate \\xa0\\xa0\\xa0\\xa0\\xa0\\xa0\\xa0\\xa0\\xa0\\xa0\\xa0\\xa0\\xa0\\xa0\\xa0\\xa0\\xa0\\xa0 Updated \\xa0Estimate\\nCost\\xa0Plus\\xa0Fee Cost \\xa0Plus\\xa0Fee Firm \\xa0Fixed\\xa0Price Cost \\xa0Plus\\xa0Fee\\nTotal Total Total Total\\n$ $ $ $ Elements (FY2010 \\xa0$M) (FY2010 \\xa0$M) (FY2010 \\xa0$M) (FY2010 \\xa0$M)\\nFalcon\\xa09\\xa0Total $1,695 $3,977 $443 $1,383\\nAssumptions \\xa0inserted\\xa0after\\xa0Space‐X\\xa0visit:\\n‐More\\xa0heritage\\xa0from\\xa0Falcon\\xa01\\xa0and\\xa0use\\xa0of\\xa0off‐the‐shelf\\xa0hardware \\xa0than\\xa0the\\xa0initial\\xa0information\\n‐Nine redundant \\xa0controllers \\xa0and\\xa0wiring\\xa0harnesses \\xa0were\\xa0not\\xa0identified \\xa0in\\xa0the\\xa0initial\\xa0information \\xa0\\n‐Structure weights \\xa0were\\xa0included\\xa0in\\xa0the\\xa0electronics\\n‐Separation \\xa0subsystem \\xa0mass\\xa0was\\xa0included\\xa0in\\xa0structure\\nInterstage (composite material) was included instructures (aluminum lithium material ) ‐Interstage \\xa0(composite \\xa0material)\\xa0was\\xa0included\\xa0in\\xa0structures \\xa0(aluminum ‐lithium material )', metadata={'source': 'data/falcon/586023main_8-3-11_NAFCOM.pdf', 'page': 4})]"
      ]
     },
     "execution_count": 36,
     "metadata": {},
     "output_type": "execute_result"
    }
   ],
   "source": [
    "retriever.invoke(\n",
    "    \"whats the price for a falcon 9 rocket with the standard payment plan?\"\n",
    ")"
   ]
  },
  {
   "cell_type": "code",
   "execution_count": 37,
   "metadata": {},
   "outputs": [
    {
     "data": {
      "text/markdown": [
       "The price for a Falcon 9 rocket launch with the standard payment plan is $69.75 million through 2024. This pricing includes range services, standard payload integration, and third-party liability insurance. Additional information can be found in Section 7.3 of the provided document."
      ],
      "text/plain": [
       "<IPython.core.display.Markdown object>"
      ]
     },
     "execution_count": 37,
     "metadata": {},
     "output_type": "execute_result"
    }
   ],
   "source": [
    "Markdown(\n",
    "    rag_chain.invoke(\n",
    "        \"whats the price for a falcon 9 rocket launch with the standard payment plan?\"\n",
    "    )\n",
    ")"
   ]
  },
  {
   "cell_type": "code",
   "execution_count": 38,
   "metadata": {},
   "outputs": [
    {
     "data": {
      "text/plain": [
       "[Document(page_content='© Space Exploration Technologies Corp.  All rights reserved.  72 \\n Table 7 -3: Additional required documents and data for non -US persons and n on-US government \\npayloads  ................................ ................................ ................................ ................................ ...........................  55 \\nTable 8 -1: Services and equipment for payload processing  ................................ ................................ .. 58 \\nTable 8 -2: Launch control organization  ................................ ................................ ................................ ..... 61 \\nTable 8 -3: Falcon 9 sample flight timeline —GTO mission  ................................ ................................ ..... 66 \\nTable 8 -4: Falcon 9 sample flight timeline —LEO mission  ................................ ................................ ...... 66', metadata={'source': 'data/falcon/falcon-users-guide-2021-09.pdf', 'page': 75}),\n",
       " Document(page_content='CAPABILITIES & SERVICESFALCON 9DESTINATIONSpaceX offers competitive pricing for its Falcon 9 and Falcon Heavy launch services. SpaceXalso offers crew transportation services tolow-Earth orbit (LEO) destinations.See additional information at spacex.com/humanspaceflight.\\nLOW-EARTH ORBIT (LEO)GEOSYNCHRONOUS TRANSFER ORBIT (GTO)PAYLOAD TO MARS22,000 kg50,265 lbs8,300 kg18,300 lbs4,020 kg8,860 lbsSTANDARD PAYMENT PLAN(through 2024)$69.75 MUp to 5.5 mT TO GTOPRICE *\\n*Pricing adjustments made in January 2024 account for inflation. Missions purchased in 2024 but flown beyond 2027 may be subject to additional adjustments due to inflation.Performance represents max capability on fully expendable vehicle.', metadata={'source': 'data/falcon/Capabilities&Services.pdf', 'page': 0}),\n",
       " Document(page_content='© Space Exploration Technologies Corp.  All rights reserved.  6 \\n \\n \\nDescriptions and performance information in this user’ s guide are for the Falcon 9 and Falcon Heavy fairing \\nconfiguration; please contact SpaceX for information about Dragon launch capabilities. Table 2-1 provides additional \\ndetails on Falcon 9  and Falcon Heavy  dimens ions and design characteristics.  \\n \\nFalcon 9 (Figure 2-1) is a two -stage launch vehicle powered by liquid \\noxygen (LOX) and rocket -grade kerosene (RP -1). The vehicle is designed, \\nbuilt and operated by SpaceX. Falcon 9 can be flown with a fairing or with \\na SpaceX Dragon spacecraft. All first - and second -stage vehicle systems \\nare the same in the two configurations; only the payload interface to the \\nsecond stage changes between the fairing and Dragon configuration s.  \\nFalcon 9 was updated in the summer of 2015 to a Full Thrust \\nconfiguration from its previous v1.1 configuration (flown from 2013 –', metadata={'source': 'data/falcon/falcon-users-guide-2021-09.pdf', 'page': 9}),\n",
       " Document(page_content='Falcon 9 was updated in the summer of 2015 to a Full Thrust \\nconfiguration from its previous v1.1 configuration (flown from 2013 – \\nsummer 2015). Falcon 9 underwent further updates and first flew its Full \\nThrust Block 5 configuration  in spring 2018. The Falcon 9 Block 5 \\narchitecture focused on improving performance, reliability, and life of the \\nvehicle, as well as ensuring the vehicle’s ability  to meet critical \\ngovernment crewed and non-crewed mission  requirement s. Engine \\nperformance on both stages was im proved, releasing additional thrust \\ncapability. Thermal protection shielding was modified to support rapid \\nrecovery and refurbishment. Avionics designs, thrust structures, and \\nother components were upgraded for commonality, reliability, and \\nperformance.   \\n \\nFalcon Heavy (Figure 2-2) is a two -stage, heavy -lift launch vehicle \\npowered by LOX and RP -1. It can transport more payload mass into LEO \\nor GTO than any other launch vehicle currently in operation.', metadata={'source': 'data/falcon/falcon-users-guide-2021-09.pdf', 'page': 9})]"
      ]
     },
     "execution_count": 38,
     "metadata": {},
     "output_type": "execute_result"
    }
   ],
   "source": [
    "retriever.invoke(\n",
    "    \"what is the payload I carry with the Falcon 9 rocket to Mars?\"\n",
    ")"
   ]
  },
  {
   "cell_type": "code",
   "execution_count": 39,
   "metadata": {},
   "outputs": [
    {
     "data": {
      "text/markdown": [
       "The payload capacity of the Falcon 9 rocket to Mars is 8,300 kg or 18,300 lbs. SpaceX offers competitive pricing for its launch services to various destinations, including low-Earth orbit and Mars. Customers need to verify the mass properties of their payload before shipping it to the launch site."
      ],
      "text/plain": [
       "<IPython.core.display.Markdown object>"
      ]
     },
     "execution_count": 39,
     "metadata": {},
     "output_type": "execute_result"
    }
   ],
   "source": [
    "Markdown(\n",
    "    rag_chain.invoke(\n",
    "        \"what is the payload I can carry with the Falcon 9 rocket to Mars?\"\n",
    "    )\n",
    ")"
   ]
  },
  {
   "cell_type": "code",
   "execution_count": 40,
   "metadata": {},
   "outputs": [
    {
     "data": {
      "text/plain": [
       "[Document(page_content='Falcon\\xa09\\xa0NAFCOM \\xa0Updated\\xa0Cost\\xa0Estimate\\xa0Comparison\\nUpdated\\n(Cost Plus FeeVsFirm Fixed Price)\\n (Cost\\xa0Plus\\xa0Fee\\xa0Vs.\\xa0Firm\\xa0Fixed\\xa0Price)\\nFirm\\xa0Fixed\\xa0Price\\xa0Acquisition Cost \\xa0Plus\\xa0Fee\\xa0Acquisition\\nWeight DDT&E 2 \\xa0Test\\xa0Flt\\xa0Units Total DDT&E 2 \\xa0Test\\xa0Flt\\xa0Units Total\\nElements (lbs)(FY2010\\xa0$M)(FY2010\\xa0$M)(FY2010\\xa0$M) (FY2010\\xa0$M)(FY2010\\xa0$M)(FY2010\\xa0$M) () ( $) ( $) ( $) ( $) ( $) ( $)\\nStage\\xa0One\\xa0(Including\\xa0Engines) 39,080 $188.7 $109.3 $298.0 $370.6 $218.3 $588.9\\nStage\\xa0Two\\xa0(Including\\xa0Engine) 6,506 $89.0 $23.6 $112.6 $184.7 $59.6 $244.4\\nFee\\xa0(12.5%) $0.0 $0.0 $0.0 $69.4 $34.7 $104.2\\nProgram Support (10%) $0.0 $0.0 $0.0 $62.5 $31.3 $93.7 Program\\xa0Support\\xa0(10%) $0.0 $0.0 $0.0 $62.5 $31.3 $93.7\\nContingency \\xa0(30%\\xa0Vehicle,\\xa010%\\xa0Engine)) $0.0 $0.0 $0.0 $193.2 $91.7 $284.9\\n‐Based\\xa0on technical \\xa0corrections \\xa0and\\xa0the\\xa0additional \\xa0insight\\xa0in\\xa0to\\xa0the\\xa0mass\\xa0summary \\xa0information \\xa0as\\xa0well\\xa0as\\xa0hardware \\xa0heritage\\xa0\\ngained\\xa0from\\xa0a\\xa0recent\\xa0trip\\xa0to\\xa0the\\xa0SpaceX facilit y.Vehicle\\xa0Level\\xa0Integration\\xa0(8%) $22.2 $10.6 $32.8 $44.4 $22.2 $66.7', metadata={'source': 'data/falcon/586023main_8-3-11_NAFCOM.pdf', 'page': 8}),\n",
       " Document(page_content='Falcon 9NAFCOM Cost Estimate ComparisonFalcon\\xa09\\xa0Cost\\xa0Estimates \\xa0Trace\\nFalcon\\xa09\\xa0NAFCOM \\xa0Cost\\xa0Estimate\\xa0Comparison\\n\\xa0\\xa0\\xa0\\xa0\\xa0\\xa0\\xa0\\xa0 Falcon\\xa09\\xa0NAFCOM \\xa0Cost\\xa0Estimate \\xa0Comparison\\n(All\\xa0Costs\\xa0Are\\xa0In\\xa0FY2010\\xa0$M) ( $)\\n\\xa0\\xa0\\xa0\\xa0\\xa0\\xa0\\xa0\\xa0\\xa0\\xa0\\xa0\\xa0\\xa0\\xa0\\xa0\\xa0\\xa0\\xa0\\xa0\\xa0 Initial\\xa0Estimate \\xa0\\xa0\\xa0\\xa0\\xa0\\xa0\\xa0\\xa0\\xa0\\xa0\\xa0\\xa0\\xa0\\xa0\\xa0\\xa0\\xa0\\xa0 Updated \\xa0Estimate\\nCost\\xa0Plus\\xa0Fee Cost \\xa0Plus\\xa0Fee Firm \\xa0Fixed\\xa0Price Cost \\xa0Plus\\xa0Fee\\nTotal Total Total Total\\n$ $ $ $ Elements (FY2010 \\xa0$M) (FY2010 \\xa0$M) (FY2010 \\xa0$M) (FY2010 \\xa0$M)\\nFalcon\\xa09\\xa0Total $1,695 $3,977 $443 $1,383\\nAssumptions \\xa0inserted\\xa0after\\xa0Space‐X\\xa0visit:\\n‐More\\xa0heritage\\xa0from\\xa0Falcon\\xa01\\xa0and\\xa0use\\xa0of\\xa0off‐the‐shelf\\xa0hardware \\xa0than\\xa0the\\xa0initial\\xa0information\\n‐Nine redundant \\xa0controllers \\xa0and\\xa0wiring\\xa0harnesses \\xa0were\\xa0not\\xa0identified \\xa0in\\xa0the\\xa0initial\\xa0information \\xa0\\n‐Structure weights \\xa0were\\xa0included\\xa0in\\xa0the\\xa0electronics\\n‐Separation \\xa0subsystem \\xa0mass\\xa0was\\xa0included\\xa0in\\xa0structure\\nInterstage (composite material) was included instructures (aluminum lithium material ) ‐Interstage \\xa0(composite \\xa0material)\\xa0was\\xa0included\\xa0in\\xa0structures \\xa0(aluminum ‐lithium material )', metadata={'source': 'data/falcon/586023main_8-3-11_NAFCOM.pdf', 'page': 4}),\n",
       " Document(page_content='Falcon\\xa09\\xa0NAFCOM \\xa0Cost\\xa0Estimate\\xa0Comparison\\nInitial\\n(Both Estimates AreCost Plus Fee)\\n (Both\\xa0Estimates \\xa0Are\\xa0Cost\\xa0Plus\\xa0Fee)\\n\\xa0\\xa0\\xa0\\xa0\\xa0\\xa0\\xa0\\xa0\\xa0\\xa0\\xa0\\xa0\\xa0\\xa0\\xa0\\xa0\\xa0\\xa0\\xa0\\xa0\\xa0\\xa0\\xa0\\xa0\\xa0 \\xa0\\xa0\\xa0\\xa0\\xa0\\xa0\\xa0\\xa0\\xa0\\xa0\\xa0\\xa0\\xa0\\xa0\\xa0\\xa0\\xa0\\xa0\\xa0\\xa0\\xa0\\xa0\\xa0\\xa0\\xa0\\xa0\\xa0\\xa0\\xa0\\xa0\\xa0 (All\\xa0Costs\\xa0Are\\xa0In\\xa0FY2010\\xa0$M)\\nCost\\xa0Plus\\xa0Fee Cost\\xa0Plus\\xa0Fee\\nSpace‐x\\xa0Approach NASA \\xa0Approach\\nWeight DDT&E Flight \\xa0Unit Total DDT&E Flight \\xa0Unit Total\\nElements (lbs) (FY2010 \\xa0$M) (FY2010 \\xa0$M) (FY2010 \\xa0$M) (FY2010 \\xa0$M) (FY2010 \\xa0$M) (FY2010 \\xa0$M)\\nStage\\xa0One\\xa0(Including\\xa0Engines) 39,080 $614 $87 $701 $1,535 $206 $1,741\\nStage\\xa0Two\\xa0(Including\\xa0Engine) 6,520 $331 $12 $343 $608 $44 $651\\nFee\\xa0(12.5%) $118 $12 $130 $268 $30 $298\\nProgram\\xa0Support\\xa0(10%) $107 $4 $111 $241 $21 $263\\nContingency \\xa0(30%\\xa0Vehicle,\\xa010%\\xa0Engine)) $251 $11 $262 $674 $68 $741\\nVehicle\\xa0Level\\xa0Integration \\xa0(8%) $106 $5 $111 $258 $24 $282\\nTotal 45,600 $1,528 $131 $1,659 $3,584 $393 $3,977\\n‐Based\\xa0on\\xa0November, \\xa02010\\xa0weight\\xa0estimate\\xa0and\\xa0technical\\xa0data\\xa0from\\xa0SpaceX\\n‐Represents\\xa0DDT&E\\xa0and\\xa0one\\xa0flight\\xa0unit p g', metadata={'source': 'data/falcon/586023main_8-3-11_NAFCOM.pdf', 'page': 7}),\n",
       " Document(page_content='Falcon\\xa09\\xa0Launch\\xa0Vehicle\\xa0NAFCOM \\xa0Cost\\xa0Estimate\\n•The\\xa0objective\\xa0of\\xa0the\\xa0analysis\\xa0was\\xa0to\\xa0estimate\\xa0the\\xa0cost\\xa0to\\xa0develop\\xa0the\\xa0Falcon\\xa09\\xa0\\nlaunch\\xa0vehicle\\xa0using\\xa0two\\xa0different\\xa0approaches: \\xa0\\xa01)\\xa0traditional \\xa0NASA\\xa0\\ni/ l d2) ildl l h environment /culture,\\xa0and\\xa02)\\xa0a\\xa0more\\xa0commerc ial\\xa0development\\xa0culture\\xa0approac h.\\n•The\\xa0analysis\\xa0was\\xa0performed \\xa0late\\xa02010‐early\\xa02011\\xa0using\\xa0the\\xa0NASA‐Air\\xa0Force\\xa0Cost\\xa0\\nModel\\xa0(NAFCOM) \\xa0with\\xa0results\\xa0provided\\xa0to\\xa0ESMD\\xa0in\\xa0November \\xa02010.\\xa0\\xa0\\n•These results were used forAppendix Bofthe“Commercial Market Assessment •These\\xa0results\\xa0were\\xa0used\\xa0for\\xa0Appendix \\xa0B\\xa0of\\xa0the\\xa0“Commercial \\xa0Market\\xa0Assessment \\xa0\\nfor\\xa0Crew\\xa0and\\xa0Cargo\\xa0Systems”\\xa0and\\xa0for\\xa0the\\xa0Deputy\\xa0Administrator’s \\xa0presentation \\xa0at\\xa0\\nthe\\xa0National\\xa0Space\\xa0Symposium.\\n•Results:\\xa0\\xa0“The\\xa0activit y\\xa0estimated \\xa0Falcon\\xa09\\xa0would\\xa0cost\\xa0$3.977B\\xa0based\\xa0on\\xa0NASA\\xa0 y $\\nenvironment/culture. \\xa0NAFCOM\\xa0predicted \\xa0$1.695B\\xa0when\\xa0all\\xa0technical\\xa0inputs\\xa0were\\xa0\\nadjusted\\xa0to\\xa0a\\xa0more\\xa0commercial \\xa0development \\xa0approach.', metadata={'source': 'data/falcon/586023main_8-3-11_NAFCOM.pdf', 'page': 1})]"
      ]
     },
     "execution_count": 40,
     "metadata": {},
     "output_type": "execute_result"
    }
   ],
   "source": [
    "retriever.invoke(\n",
    "    \"estimated, what amount of money does it take to create a Falcon 9 rocket?\"\n",
    ")"
   ]
  },
  {
   "cell_type": "code",
   "execution_count": 41,
   "metadata": {},
   "outputs": [
    {
     "data": {
      "text/markdown": [
       "It takes an estimated $3.977 billion to create a Falcon 9 rocket based on the traditional NASA environment/culture approach. However, when adjusted to a more commercial development approach, the cost is predicted to be $1.695 billion. These estimates were provided using the NASA-Air Force Cost Model (NAFCOM) in late 2010-early 2011."
      ],
      "text/plain": [
       "<IPython.core.display.Markdown object>"
      ]
     },
     "execution_count": 41,
     "metadata": {},
     "output_type": "execute_result"
    }
   ],
   "source": [
    "Markdown(\n",
    "    rag_chain.invoke(\n",
    "        \"estimated, what amount of money does it take to create a Falcon 9 rocket?\"\n",
    "    )\n",
    ")"
   ]
  },
  {
   "cell_type": "code",
   "execution_count": 42,
   "metadata": {},
   "outputs": [
    {
     "data": {
      "text/markdown": [
       "The total cost for Stage Two SpaceX approach is $651 million, while the total cost for NASA approach is $3.977 billion. The estimates were updated to include both Cost Plus Fee and Firm Fixed Price approaches, with SpaceX providing technical parameters and inputs."
      ],
      "text/plain": [
       "<IPython.core.display.Markdown object>"
      ]
     },
     "execution_count": 42,
     "metadata": {},
     "output_type": "execute_result"
    }
   ],
   "source": [
    "Markdown(\n",
    "    rag_chain.invoke(\n",
    "        \"what is the total cost for Stage Two Space-X approach vs NASA?\"\n",
    "    )\n",
    ")"
   ]
  },
  {
   "cell_type": "code",
   "execution_count": 43,
   "metadata": {},
   "outputs": [
    {
     "data": {
      "text/markdown": [
       "The Bounding Fairing Composite Temperature is the maximum temperature that the fairing composite structure should not exceed during flight. The fairing thermal insulation is designed to ensure that the composite temperature stays within acceptable limits. The timing of payload fairing jettison is determined based on customer requirements and system limitations."
      ],
      "text/plain": [
       "<IPython.core.display.Markdown object>"
      ]
     },
     "execution_count": 43,
     "metadata": {},
     "output_type": "execute_result"
    }
   ],
   "source": [
    "Markdown(\n",
    "    rag_chain.invoke(\n",
    "        \"What is the Bounding Fairing Composite Temperature?\"\n",
    "    )\n",
    ")"
   ]
  },
  {
   "cell_type": "code",
   "execution_count": 44,
   "metadata": {},
   "outputs": [
    {
     "data": {
      "text/markdown": [
       "I don't know."
      ],
      "text/plain": [
       "<IPython.core.display.Markdown object>"
      ]
     },
     "execution_count": 44,
     "metadata": {},
     "output_type": "execute_result"
    }
   ],
   "source": [
    "Markdown(\n",
    "    rag_chain.invoke(\n",
    "        \"how many seconds after Falcon 9 launch does the maximum payload fairing spot temperature reach 130 Fahrenheit?\"\n",
    "    )\n",
    ")"
   ]
  },
  {
   "cell_type": "code",
   "execution_count": 45,
   "metadata": {},
   "outputs": [
    {
     "data": {
      "text/plain": [
       "[Document(page_content='earlier, at around 210 seconds into flight. Payload fairing jettison timing is determined by customer requirements and \\nphysical limitations of the system.  \\n \\n \\nThe payload fairing will nominally be deployed when free molecular aero -thermal heating is less than 1,135 W/m2. Other \\nfairing deploy ment  constraints can be accommodated as a standard service, although they may modest ly reduce vehicle \\nperformance. Please contact SpaceX regarding mission -unique fairing deployment requirements.  80100120140160180200\\n0 50 100 150 200 250Temperature [F]\\nTime [s]Bounding Fairing Composite Temperature', metadata={'source': 'data/falcon/falcon-users-guide-2021-09.pdf', 'page': 41}),\n",
       " Document(page_content='payload fairing internal pressure will decay at a rate no larger than 0.65 psi/sec (4.5 kPa/sec), for no more than 5 \\nseconds.  \\n \\nThe SpaceX payload fairing is a composite structure consisting of a 2.5 -cm (1 -in.) thick alumin um honeycomb core \\nsurrounded by carbon fiber face sheet plies. The emissivity of the payload fairing is approximately 0.9. The fairing \\nthermal insulation, which is attached to the outside of the fairing composite, is sized such that the composite never \\nexceeds the Boun ding  Fairing Composite Temperature profile shown in Figure 4-18. The curve is truncated at 240 \\nseconds, although the approximate time of payload fairing jettison for a GTO  mission from Cape Canaveral is typically \\nearlier, at around 210 seconds into flight. Payload fairing jettison timing is determined by customer requirements and \\nphysical limitations of the system.', metadata={'source': 'data/falcon/falcon-users-guide-2021-09.pdf', 'page': 41}),\n",
       " Document(page_content='(Class 7  \\nsupply air \\ncleanliness ) N/A \\nEncapsulated  \\non pad (vertical \\nor horizontal)  Pad air \\nconditioning  <1 day  VSFB: \\nSelectable 15 to \\n35 (59 to 95)  \\nCCSFS: Selectable \\n16 to 30 (61 to 86)  0% to 65%  10,000  \\n(Class  7) \\n(supply air \\ncleanliness)  1,500  \\n \\nThe maximum predicted environments the payload will experience from liftoff through separation are described in the \\nsections below . Falcon vehicles may be able to accommodate payloads with characteristics outside the limitations \\nindicated in these sections and may  also  be able to provide environments lower tha n those indicated in these sections. \\nPlease contact SpaceX with your mission -unique requirements.  \\n \\nDuring flight, the payload will experience a r ange of axial and lateral accelerations. Axial acceleration is driven by vehicle \\nthrust and drag profiles ; lateral acceleration is primarily driven by wind gusts, engine  gimbal  maneuvers,  first-stage', metadata={'source': 'data/falcon/falcon-users-guide-2021-09.pdf', 'page': 19}),\n",
       " Document(page_content='© Space Exploration Technologies Corp.  All rights reserved.  70 \\n Figure 4 -14: Falcon Heavy worst -case radiated environment  ................................ ..............................  34 \\nFigure 4 -15: Maximum spacecraft emissions  ................................ ................................ ..........................  35 \\nFigure 4 -16: Fairing avionics emission s envelope  ................................ ................................ ...................  36 \\nFigure 4 -17: Launch site emissions  ................................ ................................ ................................ ............  37 \\nFigure 4 -18: Maximum payload fairing spot temperature seen by payload  ................................ ....... 38 \\nFigure 5 -1: On -pad electrical interfaces  ................................ ................................ ................................ ..... 43', metadata={'source': 'data/falcon/falcon-users-guide-2021-09.pdf', 'page': 73})]"
      ]
     },
     "execution_count": 45,
     "metadata": {},
     "output_type": "execute_result"
    }
   ],
   "source": [
    "retriever.invoke(\n",
    "    \"how many seconds after Falcon 9 launch does the maximum payload fairing spot temperature reach 130 Fahrenheit?\"\n",
    ")"
   ]
  }
 ],
 "metadata": {
  "kernelspec": {
   "display_name": "levels-of-rag",
   "language": "python",
   "name": "python3"
  },
  "language_info": {
   "codemirror_mode": {
    "name": "ipython",
    "version": 3
   },
   "file_extension": ".py",
   "mimetype": "text/x-python",
   "name": "python",
   "nbconvert_exporter": "python",
   "pygments_lexer": "ipython3",
   "version": "3.11.1"
  }
 },
 "nbformat": 4,
 "nbformat_minor": 2
}
